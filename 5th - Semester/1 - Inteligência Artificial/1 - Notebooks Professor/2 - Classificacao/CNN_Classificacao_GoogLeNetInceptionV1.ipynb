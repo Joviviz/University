{
  "cells": [
    {
      "cell_type": "markdown",
      "source": [
        "# CNN - Convolution Neural Networks"
      ],
      "metadata": {
        "id": "UStlbIXm0K31"
      }
    },
    {
      "cell_type": "markdown",
      "source": [
        "Uma convolução é uma operação aplicada em uma imagem (ou em um mapa de características) que usa um filtro (ou kernel) para extrair características específicas. A operação convolucional aplica o filtro na imagem e gera um mapa de características, que é uma nova imagem mostrando as respostas do filtro em cada posição."
      ],
      "metadata": {
        "id": "tuh4K25U6tjb"
      }
    },
    {
      "cell_type": "markdown",
      "source": [
        "## Convoluções"
      ],
      "metadata": {
        "id": "X1wUbXei0FzS"
      }
    },
    {
      "cell_type": "markdown",
      "source": [
        "### Conv 1x1\n"
      ],
      "metadata": {
        "id": "oK6KQkuE0oJ5"
      }
    },
    {
      "cell_type": "markdown",
      "source": [
        "Definição:\n",
        "* Uma convolução 1x1 usa um filtro (ou kernel) que tem dimensões 1x1.\n",
        "\n",
        "Propósito:\n",
        "* Apesar de parecer trivial, convoluções 1x1 são extremamente úteis. Elas permitem mudanças na profundidade dos mapas de características sem alterar suas dimensões espaciais (altura e largura).\n",
        "* Servem como uma forma eficiente de combinar informações de diferentes canais em um novo conjunto de canais, permitindo uma redução ou expansão dos canais.\n",
        "* Podem ser usadas para criar não-linearidades adicionais quando seguidas por uma função de ativação (como ReLU).\n",
        "\n",
        "Exemplo:\n",
        "* Se você tem um mapa de características com 64 canais e aplica uma convolução 1x1 com 32 filtros, o resultado será um novo mapa de características com 32 canais, mas com a mesma altura e largura que o original."
      ],
      "metadata": {
        "id": "3XAsnDj227Pl"
      }
    },
    {
      "cell_type": "markdown",
      "source": [
        "**1. Exemplificando uma imagem de 5x5 pixels:**\n",
        "```\n",
        "1 2 3 4 5\n",
        "6 7 8 9 1\n",
        "2 3 4 5 6\n",
        "7 8 9 1 2\n",
        "3 4 5 6 7\n",
        "\n",
        "```"
      ],
      "metadata": {
        "id": "zmvYxS_l0sUW"
      }
    },
    {
      "cell_type": "markdown",
      "source": [
        "**2. Um Kernel de 1x1**\n",
        "```\n",
        "0.5\n",
        "```"
      ],
      "metadata": {
        "id": "fmIhSWob2tCg"
      }
    },
    {
      "cell_type": "markdown",
      "source": [
        "**3. Multiplicando cada valor da imagem pelo kernel 1x1, obtem-se:**\n",
        "```\n",
        "0.5 1.0 1.5 2.0 2.5\n",
        "3.0 3.5 4.0 4.5 0.5\n",
        "1.0 1.5 2.0 2.5 3.0\n",
        "3.5 4.0 4.5 0.5 1.0\n",
        "1.5 2.0 2.5 3.0 3.5\n",
        "\n",
        "```"
      ],
      "metadata": {
        "id": "um2LlGAi24ue"
      }
    },
    {
      "cell_type": "markdown",
      "source": [
        "### Conv 3x3"
      ],
      "metadata": {
        "id": "CGuAPv433PEr"
      }
    },
    {
      "cell_type": "markdown",
      "source": [
        "Definição:\n",
        "* Uma convolução 3x3 usa um filtro de tamanho 3x3.\n",
        "\n",
        "Propósito:\n",
        "* Convoluções 3x3 são comuns porque conseguem capturar padrões espaciais locais, como bordas, cantos e texturas pequenas.\n",
        "* São um bom compromisso entre complexidade computacional e a capacidade de capturar informações espaciais.\n",
        "* Quando aplicadas em camadas profundas, ajudam a capturar relações entre características mais complexas.\n",
        "\n",
        "Exemplo:\n",
        "* Se você tem uma imagem ou um mapa de características, um filtro 3x3 é aplicado sobre ele movendo-se em passos (strides) definidos e computando a multiplicação e soma dos valores dos pixels dentro do filtro com os valores dos pesos do filtro."
      ],
      "metadata": {
        "id": "6FsyGsHJ3Wdn"
      }
    },
    {
      "cell_type": "markdown",
      "source": [
        "**1. Exemplificando uma imagem de 5x5 pixels:**\n",
        "```\n",
        "1 2 3 4 5\n",
        "6 7 8 9 1\n",
        "2 3 4 5 6\n",
        "7 8 9 1 2\n",
        "3 4 5 6 7\n",
        "\n",
        "```"
      ],
      "metadata": {
        "id": "Z5N1ppIf4LeU"
      }
    },
    {
      "cell_type": "markdown",
      "source": [
        "**2. Um Kernel de 3x3**\n",
        "```\n",
        "1 0 -1\n",
        "1 0 -1\n",
        "1 0 -1\n",
        "\n",
        "```"
      ],
      "metadata": {
        "id": "N8AuJjLX4QTX"
      }
    },
    {
      "cell_type": "markdown",
      "source": [
        "**3. Resultado da Convolução 3x3 (sem padding e stride de 1)**\n",
        "\n",
        "O kernel se aplica sobre a área 3x3 da imagem e a soma ponderada dos valores é calculada."
      ],
      "metadata": {
        "id": "hXpKPRsO4VWD"
      }
    },
    {
      "cell_type": "markdown",
      "source": [
        "```\n",
        "Aplicando na primeira posição (topo-esquerda):\n",
        "1*1 + 2*0 + 3*(-1) +\n",
        "6*1 + 7*0 + 8*(-1) +\n",
        "2*1 + 3*0 + 4*(-1) = -7\n",
        "\n",
        "Resultado parcial:\n",
        "-7  ...  ...\n",
        "\n",
        "Deslocando o kernel para a direita:\n",
        "2*1 + 3*0 + 4*(-1) +\n",
        "7*1 + 8*0 + 9*(-1) +\n",
        "3*1 + 4*0 + 5*(-1) = -7\n",
        "\n",
        "Resultado parcial:\n",
        "-7 -7  ...\n",
        "\n",
        "Repetir esse processo para toda a imagem, obtendo:\n",
        "-7 -7 -4 -4\n",
        " 0  0  0  0\n",
        " 1  1  4  4\n",
        " 1  1  4  4\n",
        "```"
      ],
      "metadata": {
        "id": "nD-Qnp9I4e6I"
      }
    },
    {
      "cell_type": "markdown",
      "source": [
        "### Conv 5x5"
      ],
      "metadata": {
        "id": "P_w0P67F5Yk6"
      }
    },
    {
      "cell_type": "markdown",
      "source": [
        "Definição:\n",
        "* Uma convolução 5x5 usa um filtro de tamanho 5x5.\n",
        "\n",
        "Propósito:\n",
        "* Convoluções 5x5 capturam padrões maiores e mais complexos do que convoluções 3x3, sendo capazes de considerar uma região maior da imagem ou mapa de características.\n",
        "* São úteis para capturar informações contextuais mais amplas, como padrões mais dispersos.\n",
        "\n",
        "Exemplo:\n",
        "* Similar à convolução 3x3, um filtro 5x5 percorre a imagem ou mapa de características e realiza multiplicação e soma dos valores dos pixels dentro do filtro com os valores dos pesos do filtro."
      ],
      "metadata": {
        "id": "o5AJQeNs5bVo"
      }
    },
    {
      "cell_type": "markdown",
      "source": [
        "**1. Exemplificando uma imagem de 5x5 pixels:**\n",
        "```\n",
        "1 2 3 4 5\n",
        "6 7 8 9 1\n",
        "2 3 4 5 6\n",
        "7 8 9 1 2\n",
        "3 4 5 6 7\n",
        "\n",
        "```"
      ],
      "metadata": {
        "id": "EkL9IACN5lNM"
      }
    },
    {
      "cell_type": "markdown",
      "source": [
        "**2. Um kernel de 5x5:**\n",
        "```\n",
        " 0  1  2  1  0\n",
        " 1  2  3  2  1\n",
        " 2  3  4  3  2\n",
        " 1  2  3  2  1\n",
        " 0  1  2  1  0\n",
        "```"
      ],
      "metadata": {
        "id": "XhL4mjeM5q4z"
      }
    },
    {
      "cell_type": "markdown",
      "source": [
        "**3. Resultado da Convolução 5x5 (sem padding e stride de 1)**\n",
        "\n",
        "Como a imagem e o kernel são do mesmo tamanho, aplicamos o kernel diretamente uma vez:\n",
        "\n",
        "```\n",
        " 1*0 + 2*1 + 3*2 + 4*1 + 5*0 +\n",
        " 6*1 + 7*2 + 8*3 + 9*2 + 1*1 +\n",
        " 2*2 + 3*3 + 4*4 + 5*3 + 6*2 +\n",
        " 7*1 + 8*2 + 9*3 + 1*2 + 2*1 +\n",
        " 3*0 + 4*1 + 5*2 + 6*1 + 7*0 = 160\n",
        "\n",
        "Resultado final:\n",
        "160\n",
        "```"
      ],
      "metadata": {
        "id": "rzySI-oO556m"
      }
    },
    {
      "cell_type": "markdown",
      "source": [
        "## Pooling"
      ],
      "metadata": {
        "id": "I-VC98WC-xSq"
      }
    },
    {
      "cell_type": "markdown",
      "source": [
        "Pooling é uma operação que reduz a dimensionalidade espacial de um mapa de características, mantendo a informação mais importante. Existem diferentes tipos de pooling, sendo os mais comuns:\n",
        "\n",
        "* Max Pooling: Seleciona o valor máximo de cada região (janela) da imagem.\n",
        "* Average Pooling: Calcula a média dos valores de cada região (janela) da imagem."
      ],
      "metadata": {
        "id": "asZlCI3e-z7x"
      }
    },
    {
      "cell_type": "markdown",
      "source": [
        "## Projeção"
      ],
      "metadata": {
        "id": "k8_YaUge-6s4"
      }
    },
    {
      "cell_type": "markdown",
      "source": [
        "Projeção, no contexto de CNNs e Inception, geralmente se refere a aplicar uma convolução 1x1 após a operação de pooling. A convolução 1x1 modifica a profundidade do mapa de características, ajustando o número de canais."
      ],
      "metadata": {
        "id": "q4orA5hd_A_M"
      }
    },
    {
      "cell_type": "markdown",
      "source": [
        "## Pooling com Projeção"
      ],
      "metadata": {
        "id": "pJ49mnCt_O0R"
      }
    },
    {
      "cell_type": "markdown",
      "source": [
        "No módulo de Inception, pooling com projeção é uma combinação de uma operação de pooling seguida por uma convolução 1x1. Essa combinação é usada para:\n",
        "\n",
        "1. Reduzir a Dimensionalidade Espacial: A operação de pooling reduz a altura e a largura do mapa de características, diminuindo a quantidade de informações espaciais, mas mantendo a informação mais relevante.\n",
        "2. Manter a Profundidade Controlada: A convolução 1x1 após o pooling ajusta a profundidade do mapa de características, permitindo a combinação eficiente de diferentes tipos de informações extraídas pelas outras convoluções (1x1, 3x3 e 5x5) no módulo de Inception."
      ],
      "metadata": {
        "id": "lj1qxVQ3_SZH"
      }
    },
    {
      "cell_type": "markdown",
      "source": [
        "### Exemplo Prático\n",
        "\n",
        "Vamos considerar um exemplo prático usando pooling com projeção em um módulo de Inception.\n",
        "\n",
        "Entrada\n",
        "* Mapa de características de entrada: Suponha que temos um mapa de características de tamanho 8x8x64 (altura x largura x canais).\n",
        "\n",
        "Pooling\n",
        "* Max Pooling: Usamos uma janela 3x3 com stride 1 e padding 'same'.\n",
        "O resultado é um mapa de características de tamanho 8x8x64, pois o padding 'same' mantém as dimensões espaciais.\n",
        "\n",
        "Projeção\n",
        "* Convolução 1x1: Aplicamos uma convolução 1x1 com, digamos, 32 filtros.\n",
        "Isso ajusta a profundidade do mapa de características para 32, resultando em um mapa de características de tamanho 8x8x32.\n",
        "\n",
        "Combinação no Módulo de Inception\n",
        "* No módulo de Inception, essa operação de pooling com projeção é combinada com as outras convoluções (1x1, 3x3, 5x5) e suas respectivas projeções."
      ],
      "metadata": {
        "id": "Xo-s_UtQKcgX"
      }
    },
    {
      "cell_type": "markdown",
      "source": [
        "# Implementação da CNN GoogLeNet Inception v1\n",
        "\n",
        "Utilizaremos um exemplo desenvolvido pelo Google Brain para visão computacional, denominado Inception."
      ],
      "metadata": {
        "id": "xFplU0uu632p"
      }
    },
    {
      "cell_type": "markdown",
      "source": [
        "## Bibliotecas a serem utilizadas"
      ],
      "metadata": {
        "id": "1cN0an6q7H_U"
      }
    },
    {
      "cell_type": "code",
      "execution_count": null,
      "metadata": {
        "id": "lIYdn1woOS1n"
      },
      "outputs": [],
      "source": [
        "# Importação das bibliotecas necessárias\n",
        "import tensorflow as tf\n",
        "from tensorflow.keras.layers import Layer, Conv2D, MaxPooling2D, Dropout, Dense, Input, concatenate, GlobalAveragePooling2D, AveragePooling2D, Flatten\n",
        "from tensorflow.keras.models import Model\n",
        "from tensorflow.keras.datasets import cifar10\n",
        "from tensorflow.keras.utils import to_categorical\n",
        "from tensorflow.keras.optimizers import SGD, Adam, RMSprop\n",
        "from tensorflow.keras.callbacks import LearningRateScheduler\n",
        "import cv2\n",
        "import numpy as np\n",
        "import math\n",
        "import matplotlib.pyplot as plt\n",
        "from tensorflow.keras.preprocessing import image\n",
        "from tensorflow.keras.models import load_model\n",
        "import requests\n",
        "from PIL import Image\n",
        "from io import BytesIO"
      ]
    },
    {
      "cell_type": "code",
      "source": [
        "# Verifica a quantidade de GPUs disponíveis\n",
        "print(\"Num GPUs Available: \", len(tf.config.list_physical_devices('GPU')))"
      ],
      "metadata": {
        "colab": {
          "base_uri": "https://localhost:8080/"
        },
        "id": "Eur64eakk6sL",
        "outputId": "31689841-159d-4e57-abfa-22df4f11fd8c"
      },
      "execution_count": null,
      "outputs": [
        {
          "output_type": "stream",
          "name": "stdout",
          "text": [
            "Num GPUs Available:  1\n"
          ]
        }
      ]
    },
    {
      "cell_type": "markdown",
      "source": [
        "## Database"
      ],
      "metadata": {
        "id": "vx4493jy7ONl"
      }
    },
    {
      "cell_type": "markdown",
      "source": [
        "`Função load_cifar10_data:` Essa função é responsável por carregar os dados do dataset CIFAR-10 e realizar o pré-processamento necessário, como redimensionar as imagens, transformar os rótulos para um formato categórico e normalizar os valores dos pixels das imagens.\n",
        "\n",
        "`Parâmetros 32, 32:` Esses parâmetros são usados para especificar as dimensões das imagens após o redimensionamento. No caso, 32 e 32 representam a largura e a altura das imagens, respectivamente. Ou seja, cada imagem do CIFAR-10 será redimensionada para 32x32 pixels."
      ],
      "metadata": {
        "id": "yj4Y8UHuw3f1"
      }
    },
    {
      "cell_type": "code",
      "source": [
        "# Função para carregar e processar os dados do CIFAR-10\n",
        "def load_cifar10_data(img_rows, img_cols):\n",
        "    # Carrega os dados de treino e validação do CIFAR-10\n",
        "    (X_train, Y_train), (X_valid, Y_valid) = cifar10.load_data()\n",
        "\n",
        "    # Redimensiona as imagens de treino e validação\n",
        "    X_train = np.array([cv2.resize(img, (img_rows, img_cols)) for img in X_train])\n",
        "    X_valid = np.array([cv2.resize(img, (img_rows, img_cols)) for img in X_valid])\n",
        "\n",
        "    # Converte os rótulos para o formato categórico\n",
        "    num_classes = 10\n",
        "    Y_train = to_categorical(Y_train, num_classes)\n",
        "    Y_valid = to_categorical(Y_valid, num_classes)\n",
        "\n",
        "    # Converte as imagens para o tipo 'float32' e normaliza os dados\n",
        "    X_train = X_train.astype('float32') / 255.0\n",
        "    X_valid = X_valid.astype('float32') / 255.0\n",
        "\n",
        "    return X_train, Y_train, X_valid, Y_valid"
      ],
      "metadata": {
        "id": "nhP-dbVLUL66"
      },
      "execution_count": null,
      "outputs": []
    },
    {
      "cell_type": "code",
      "source": [
        "# Carrega e pré-processa os dados do CIFAR-10, alterando o tamanho da imagem para 32x32 pixels\n",
        "X_train, y_train, X_test, y_test = load_cifar10_data(32, 32)"
      ],
      "metadata": {
        "id": "Sx11LzhRUO4o",
        "colab": {
          "base_uri": "https://localhost:8080/"
        },
        "outputId": "c084aeca-f15d-4c3a-a342-369d3730730c",
        "collapsed": true
      },
      "execution_count": null,
      "outputs": [
        {
          "output_type": "stream",
          "name": "stdout",
          "text": [
            "Downloading data from https://www.cs.toronto.edu/~kriz/cifar-10-python.tar.gz\n",
            "170498071/170498071 [==============================] - 4s 0us/step\n"
          ]
        }
      ]
    },
    {
      "cell_type": "markdown",
      "source": [
        "`kernel_init:` Este inicializador é usado para definir os valores iniciais dos pesos das camadas convolucionais usando o método Glorot Uniform. Ele ajuda a garantir que as ativações não sejam nem muito grandes nem muito pequenas, facilitando o treinamento eficiente da rede.\n",
        "\n",
        "*   `tf.keras.initializers.GlorotUniform()`\n",
        "    * Este é um inicializador de pesos que também é conhecido como Xavier Uniform Initializer.\n",
        "    * Ele é projetado para manter a variação das ativações através das camadas da rede constante.\n",
        "    * Funciona inicializando os pesos com valores aleatórios retirados de uma distribuição uniforme dentro de um intervalo específico, que depende do número de unidades nas camadas de entrada e saída.\n",
        "    * Este método é amplamente utilizado porque ajuda a acelerar a convergência do modelo.\n",
        "*   `tf.keras.initializers.Constant(value=0.2)`\n",
        "    * Este é um inicializador de bias que define todos os valores de bias para um valor constante, neste caso, 0.2.\n",
        "    * Inicializar os bias com um valor constante pode ser útil, especialmente para evitar iniciar com todos os bias iguais a zero, o que pode causar certas simetrias que são indesejáveis no treinamento inicial da rede.\n",
        "\n",
        "\n",
        "`bias_init:` Este inicializador define os valores iniciais dos bias das camadas convolucionais como 0.2, fornecendo um valor constante diferente de zero para os bias, o que pode ajudar a quebrar a simetria e permitir que a rede aprenda de forma mais eficiente desde o início."
      ],
      "metadata": {
        "id": "3sNlDJ4vxHLz"
      }
    },
    {
      "cell_type": "code",
      "source": [
        "# Inicializadores de kernel (pesos iniciais) e bias\n",
        "kernel_init = tf.keras.initializers.GlorotUniform()\n",
        "bias_init = tf.keras.initializers.Constant(value=0.2)"
      ],
      "metadata": {
        "id": "L2PkbsZSbilv"
      },
      "execution_count": null,
      "outputs": []
    },
    {
      "cell_type": "markdown",
      "source": [
        "## Inception Module"
      ],
      "metadata": {
        "id": "q0bXYY42zKGF"
      }
    },
    {
      "cell_type": "markdown",
      "source": [
        "A função inception_module recebe como entrada:\n",
        "\n",
        "* `x`: o tensor de entrada (normalmente uma camada anterior).\n",
        "* `filters_1x1`: o número de filtros para a convolução 1x1.\n",
        "* `filters_3x3_reduce`: o número de filtros para a camada de redução antes da convolução 3x3.\n",
        "* `filters_3x3`: o número de filtros para a convolução 3x3.\n",
        "* `filters_5x5_reduce`: o número de filtros para a camada de redução antes da convolução 5x5.\n",
        "* `filters_5x5`: o número de filtros para a convolução 5x5.\n",
        "* `filters_pool_proj`: o número de filtros para a projeção após a camada de pooling.\n",
        "name: opcional, o nome do módulo de Inception."
      ],
      "metadata": {
        "id": "dp4mBRo87W4N"
      }
    },
    {
      "cell_type": "markdown",
      "source": [
        "### Convolução 1x1\n",
        "\n",
        "* `Conv2D`: Cria uma camada de convolução bidimensional.\n",
        "* `filters_1x1`: Número de filtros usados na convolução 1x1.\n",
        "* `(1, 1)`: Tamanho do kernel (filtro) é 1x1.\n",
        "* `padding='same'`: A saída tem o mesmo tamanho que a entrada, adicionando zeros nas bordas quando necessário.\n",
        "* `activation='relu'`: Função de ativação ReLU (Rectified Linear Unit). M ais funções de ativação na [documentação do tensorflow](https://www.tensorflow.org/api_docs/python/tf/keras/activations)\n",
        "* `kernel_initializer`: Inicializador para os pesos da camada, aqui usando kernel_init.\n",
        "* `bias_initializer`: Inicializador para os biases da camada, aqui usando bias_init.\n",
        "`(x)`: A camada recebe o tensor de entrada x"
      ],
      "metadata": {
        "id": "4a5Tllju76gp"
      }
    },
    {
      "cell_type": "markdown",
      "source": [
        "### Convolução 3x3 com redução\n",
        "\n",
        "* `conv_3x3_reduce`: Primeira camada é uma convolução 1x1 para reduzir a dimensionalidade.\n",
        "* `filters_3x3_reduce`: Número de filtros para a camada de redução.\n",
        "* `(1, 1)`: Tamanho do kernel é 1x1.\n",
        "* `conv_3x3`: Segunda camada é uma convolução 3x3 aplicada na saída da camada anterior.\n",
        "* `filters_3x3`: Número de filtros para a convolução 3x3.\n",
        "* `(3, 3)`: Tamanho do kernel é 3x3."
      ],
      "metadata": {
        "id": "NzD-cl4f9ipG"
      }
    },
    {
      "cell_type": "markdown",
      "source": [
        "### Convolução 5x5 com redução\n",
        "\n",
        "* `conv_5x5_reduce`: Primeira camada é uma convolução 1x1 para reduzir a dimensionalidade.\n",
        "* `filters_5x5_reduce`: Número de filtros para a camada de redução.\n",
        "* `(1, 1)`: Tamanho do kernel é 1x1.\n",
        "* `conv_5x5`: Segunda camada é uma convolução 5x5 aplicada na saída da camada anterior.\n",
        "* `filters_5x5`: Número de filtros para a convolução 5x5.\n",
        "* `(5, 5)`: Tamanho do kernel é 5x5."
      ],
      "metadata": {
        "id": "CZlB5__T94iK"
      }
    },
    {
      "cell_type": "markdown",
      "source": [
        "### Pooling com projeção\n",
        "\n",
        "```\n",
        "pool_proj = MaxPooling2D((3, 3), strides=(1, 1), padding='same')(x)\n",
        "```\n",
        "\n",
        "* `MaxPooling2D`: Cria uma camada de max pooling.\n",
        "* `(3, 3)`: Tamanho da janela de pooling (3x3 pixels).\n",
        "* `strides=(1, 1)`: Passo da janela de pooling (move-se 1 pixel de cada vez).\n",
        "* `padding='same'`: Mantém as dimensões espaciais da entrada, adicionando zeros quando necessário.\n",
        "* `(x)`: Aplica a operação ao tensor de entrada x.\n",
        "\n",
        "```\n",
        "pool_proj = Conv2D(filters_pool_proj, (1, 1), padding='same', activation='relu', kernel_initializer=kernel_init, bias_initializer=bias_init)(pool_proj)\n",
        "\n",
        "```\n",
        "\n",
        "* `Conv2D`: Cria uma camada de convolução.\n",
        "* `filters_pool_proj`: Número de filtros para a convolução 1x1 (determina a profundidade do mapa de características de saída).\n",
        "* `(1, 1)`: Tamanho do kernel (filtro) é 1x1.\n",
        "* `padding='same'`: Mantém as dimensões espaciais da entrada.\n",
        "* `activation='relu'`: Função de ativação ReLU (Rectified Linear Unit).\n",
        "* `kernel_initializer` e `bias_initializer`: Inicializadores dos pesos e biases.\n",
        "* `(pool_proj)`: Aplica a convolução ao mapa de características resultante da operação de pooling.\n"
      ],
      "metadata": {
        "id": "5wTLTV0m-UEH"
      }
    },
    {
      "cell_type": "code",
      "source": [
        "# Função para criar um módulo de Inception\n",
        "def inception_module(x, filters_1x1, filters_3x3_reduce, filters_3x3, filters_5x5_reduce, filters_5x5, filters_pool_proj, name=None):\n",
        "    conv_1x1 = Conv2D(filters_1x1, (1, 1), padding='same', activation='relu', kernel_initializer=kernel_init, bias_initializer=bias_init)(x)\n",
        "\n",
        "    conv_3x3 = Conv2D(filters_3x3_reduce, (1, 1), padding='same', activation='relu', kernel_initializer=kernel_init, bias_initializer=bias_init)(x)\n",
        "    conv_3x3 = Conv2D(filters_3x3, (3, 3), padding='same', activation='relu', kernel_initializer=kernel_init, bias_initializer=bias_init)(conv_3x3)\n",
        "\n",
        "    conv_5x5 = Conv2D(filters_5x5_reduce, (1, 1), padding='same', activation='relu', kernel_initializer=kernel_init, bias_initializer=bias_init)(x)\n",
        "    conv_5x5 = Conv2D(filters_5x5, (5, 5), padding='same', activation='relu', kernel_initializer=kernel_init, bias_initializer=bias_init)(conv_5x5)\n",
        "\n",
        "    pool_proj = MaxPooling2D((3, 3), strides=(1, 1), padding='same')(x)\n",
        "    pool_proj = Conv2D(filters_pool_proj, (1, 1), padding='same', activation='relu', kernel_initializer=kernel_init, bias_initializer=bias_init)(pool_proj)\n",
        "\n",
        "    output = concatenate([conv_1x1, conv_3x3, conv_5x5, pool_proj], axis=3, name=name)\n",
        "    return output"
      ],
      "metadata": {
        "id": "D--rGnrZUcmY"
      },
      "execution_count": null,
      "outputs": []
    },
    {
      "cell_type": "markdown",
      "source": [
        "## Definição do Modelo de Inception"
      ],
      "metadata": {
        "id": "RSVm7XCMLmo-"
      }
    },
    {
      "cell_type": "markdown",
      "source": [
        "**Resumo do Fluxo de Camadas**\n",
        "\n",
        "1. Camada de Entrada: Recebe imagens de 32x32 pixels com 3 canais (RGB).\n",
        "2. Convolução 7x7: Aplica 64 filtros 7x7 com stride 2, reduzindo a dimensão espacial e extraindo características iniciais.\n",
        "3. Max Pooling 3x3: Reduz ainda mais a dimensão espacial com janela 3x3 e stride 2.\n",
        "4. Convolução 1x1: Modifica a profundidade para 64, mantendo a dimensão espacial.\n",
        "5. Convolução 3x3: Aplica 192 filtros 3x3 para extrair características mais complexas.\n",
        "6. Max Pooling 3x3: Reduz novamente a dimensão espacial com janela 3x3 e stride 2."
      ],
      "metadata": {
        "id": "mmetNaDUO67E"
      }
    },
    {
      "cell_type": "code",
      "source": [
        "input_layer = Input(shape=(32, 32, 3))"
      ],
      "metadata": {
        "id": "7PzyUY7lXn_r"
      },
      "execution_count": null,
      "outputs": []
    },
    {
      "cell_type": "markdown",
      "source": [
        "* `Input`: Cria uma camada de entrada que especifica a forma da entrada.\n",
        "* `shape=(32, 32, 3)`: As entradas são imagens de 32x32 pixels com 3 canais (RGB)."
      ],
      "metadata": {
        "id": "feGf_WiWLpcB"
      }
    },
    {
      "cell_type": "code",
      "source": [
        "x = Conv2D(64, (7, 7), padding='same', strides=(2, 2), activation='relu', name='conv_1_7x7div2', kernel_initializer=kernel_init, bias_initializer=bias_init)(input_layer)"
      ],
      "metadata": {
        "id": "xd0uLHBvMlPc"
      },
      "execution_count": null,
      "outputs": []
    },
    {
      "cell_type": "markdown",
      "source": [
        "* `Conv2D`: Cria uma camada de convolução bidimensional.\n",
        "64: Número de filtros na convolução.\n",
        "* `(7, 7)`: Tamanho do kernel (filtro) é 7x7.\n",
        "* `padding='same'`: A saída tem o mesmo tamanho que a entrada, com preenchimento de zeros nas bordas quando necessário.\n",
        "* `strides=(2, 2)`: O kernel se move 2 pixels de cada vez na horizontal e na vertical, reduzindo as dimensões espaciais da saída.\n",
        "* `activation='relu'`: Função de ativação ReLU (Rectified Linear Unit).\n",
        "* `name='conv_1_7x7div2'`: Nome da camada.\n",
        "* `kernel_initializer=kernel_init`: Inicializador para os pesos da camada.\n",
        "* `bias_initializer=bias_init`: Inicializador para os bias da camada.\n",
        "* `(input_layer)`: Aplica a convolução ao tensor de entrada input_layer"
      ],
      "metadata": {
        "id": "oIFCjQ_oMBLV"
      }
    },
    {
      "cell_type": "code",
      "source": [
        "x = MaxPooling2D((3, 3), padding='same', strides=(2, 2), name='max_pool_1_3x3div2')(x)"
      ],
      "metadata": {
        "id": "WsFEk4vsM_qH"
      },
      "execution_count": null,
      "outputs": []
    },
    {
      "cell_type": "markdown",
      "source": [
        "* `MaxPooling2D`: Cria uma camada de pooling máximo bidimensional.\n",
        "* `(3, 3)`: Tamanho da janela de pooling é 3x3.\n",
        "* `padding='same'`: A saída tem o mesmo tamanho que a entrada, com preenchimento de zeros nas bordas quando necessário.\n",
        "* `strides=(2, 2)`: A janela de pooling se move 2 pixels de cada vez, reduzindo as dimensões espaciais da saída.\n",
        "* `name='max_pool_1_3x3div2'`: Nome da camada.\n",
        "* `(x)`: Aplica a operação de pooling ao tensor `x` resultante da camada anterior."
      ],
      "metadata": {
        "id": "CPxlYP07Me76"
      }
    },
    {
      "cell_type": "code",
      "source": [
        "x = Conv2D(64, (1, 1), padding='same', activation='relu', name='conv_2a_3x3div1')(x)"
      ],
      "metadata": {
        "id": "6WvQ34xiMCrr"
      },
      "execution_count": null,
      "outputs": []
    },
    {
      "cell_type": "markdown",
      "source": [
        "* `Conv2D`: Cria outra camada de convolução bidimensional.\n",
        "* `64`: Número de filtros na convolução.\n",
        "* `(1, 1)`: Tamanho do kernel é 1x1, usado para modificar a profundidade do tensor sem alterar as dimensões espaciais.\n",
        "* `padding='same'`: A saída tem o mesmo tamanho que a entrada.\n",
        "* `activation='relu'`: Função de ativação ReLU.\n",
        "* `name='conv_2a_3x3div1'`: Nome da camada.\n",
        "* `kernel_initializer=kernel_init`: Inicializador para os pesos da camada.\n",
        "* `bias_initializer=bias_init`: Inicializador para os bias da camada.\n",
        "* `(x)`: Aplica a convolução ao tensor `x` resultante da camada anterior."
      ],
      "metadata": {
        "id": "1XW3XmccM-1y"
      }
    },
    {
      "cell_type": "code",
      "source": [
        "x = Conv2D(192, (3, 3), padding='same', activation='relu', name='conv_2b_3x3div1')(x)"
      ],
      "metadata": {
        "id": "NLl9cZcgNo58"
      },
      "execution_count": null,
      "outputs": []
    },
    {
      "cell_type": "markdown",
      "source": [
        "* `Conv2D`: Cria outra camada de convolução bidimensional.\n",
        "* `192`: Número de filtros na convolução.\n",
        "* `(1, 1)`: Tamanho do kernel é 1x1, usado para modificar a profundidade do tensor sem alterar as dimensões espaciais.\n",
        "* `padding='same'`: A saída tem o mesmo tamanho que a entrada.\n",
        "* `activation='relu'`: Função de ativação ReLU.\n",
        "* `name='conv_2b_3x3div1'`: Nome da camada.\n",
        "* `kernel_initializer=kernel_init`: Inicializador para os pesos da camada.\n",
        "* `bias_initializer=bias_init`: Inicializador para os bias da camada.\n",
        "* `(x)`: Aplica a convolução ao tensor `x` resultante da camada anterior."
      ],
      "metadata": {
        "id": "dS5RmiEDMjaQ"
      }
    },
    {
      "cell_type": "code",
      "source": [
        "x = MaxPooling2D((3, 3), padding='same', strides=(2, 2), name='max_pool_2_3x3div2')(x)"
      ],
      "metadata": {
        "id": "Dg2RPaJ0NrDz"
      },
      "execution_count": null,
      "outputs": []
    },
    {
      "cell_type": "markdown",
      "source": [
        "* `MaxPooling2D`: Cria uma camada de pooling máximo bidimensional.\n",
        "* `(3, 3)`: Tamanho da janela de pooling é 3x3.\n",
        "* `padding='same'`: A saída tem o mesmo tamanho que a entrada, com preenchimento de zeros nas bordas quando necessário.\n",
        "* `strides=(2, 2)`: A janela de pooling se move 2 pixels de cada vez, reduzindo as dimensões espaciais da saída.\n",
        "* `name='max_pool_2_3x3div2'`: Nome da camada.\n",
        "* `(x)`: Aplica a operação de pooling ao tensor `x` resultante da camada anterior."
      ],
      "metadata": {
        "id": "7ahvTJLENqkM"
      }
    },
    {
      "cell_type": "markdown",
      "source": [
        "## Adição de módulos de Inception (x)"
      ],
      "metadata": {
        "id": "8zzLXACrPPxY"
      }
    },
    {
      "cell_type": "markdown",
      "source": [
        "Após o processamento do modelo de Inception, a saída resultante torna-se entrada a ser passada por módulos de Inception, que combinarão várias operações de convolução e pooling em paralelo para extrair características em diferentes escalas."
      ],
      "metadata": {
        "id": "DxhulYnqOkta"
      }
    },
    {
      "cell_type": "markdown",
      "source": [
        "**Resumo do Processo**\n",
        "\n",
        "1. Primeiro Módulo de Inception:\n",
        "\n",
        "    * Aplica várias convoluções (1x1, 3x3 com redução, 5x5 com redução) e pooling seguido de uma projeção (convolução 1x1).\n",
        "    * Combina as saídas dessas operações em um único tensor.\n",
        "\n",
        "2. Segundo Módulo de Inception:\n",
        "\n",
        "    * Aplica um conjunto diferente de convoluções e pooling, mas com a mesma estrutura.\n",
        "    * Combina as saídas dessas operações em um único tensor.\n",
        "\n",
        "3. Pooling Máximo:\n",
        "\n",
        "    * Reduz as dimensões espaciais do tensor de saída resultante dos módulos de Inception.\n",
        "    * Mantém a profundidade do tensor, mas reduz a resolução espacial, o que ajuda a capturar características mais abstratas e reduzir a complexidade computacional para as camadas subsequentes.\n",
        "\n",
        "Esses passos são parte da construção do modelo de Inception, onde diferentes escalas de convoluções e pooling são usadas para extrair características complexas e variadas da entrada, seguidos por operações de pooling para compactar e resumir a informação."
      ],
      "metadata": {
        "id": "MO4fs2_1X4Aa"
      }
    },
    {
      "cell_type": "markdown",
      "source": [
        "### Primeiro módulo Inception"
      ],
      "metadata": {
        "id": "QKogYsB6eNCR"
      }
    },
    {
      "cell_type": "code",
      "source": [
        "x = inception_module(x, filters_1x1=64, filters_3x3_reduce=96, filters_3x3=128, filters_5x5_reduce=16, filters_5x5=32, filters_pool_proj=32, name='inception_3a')"
      ],
      "metadata": {
        "colab": {
          "base_uri": "https://localhost:8080/"
        },
        "id": "YOemeHUhPXqN",
        "outputId": "3119a7f7-b100-4467-c443-94724694a2cf"
      },
      "execution_count": null,
      "outputs": [
        {
          "output_type": "stream",
          "name": "stderr",
          "text": [
            "/usr/local/lib/python3.10/dist-packages/keras/src/initializers/initializers.py:120: UserWarning: The initializer GlorotUniform is unseeded and being called multiple times, which will return identical values each time (even if the initializer is unseeded). Please update your code to provide a seed to the initializer, or avoid using the same initializer instance more than once.\n",
            "  warnings.warn(\n"
          ]
        }
      ]
    },
    {
      "cell_type": "markdown",
      "source": [
        "Primeiro módulo de Inception é adicionado ao modelo:\n",
        "\n",
        "1. `inception_module`: Chama a função inception_module para criar e aplicar um módulo de Inception à entrada `x`.\n",
        "2. `filters_1x1=64`: Define 64 filtros para a convolução 1x1.\n",
        "3. `filters_3x3_reduce=96`: Define 96 filtros para a camada de redução antes da convolução 3x3.\n",
        "4. `filters_3x3=128`: Define 128 filtros para a convolução 3x3.\n",
        "5. `filters_5x5_reduce=16`: Define 16 filtros para a camada de redução antes da convolução 5x5.\n",
        "6. `filters_5x5=32`: Define 32 filtros para a convolução 5x5.\n",
        "7. `filters_pool_proj=32`: Define 32 filtros para a projeção após a camada de pooling.\n",
        "8. `name='inception_3a'`: Define o nome do módulo como `inception_3a`.\n",
        "\n",
        "\n",
        "Esses parâmetros configuram o módulo de Inception para combinar múltiplas convoluções (1x1, 3x3, 5x5) e pooling em paralelo, concatenando suas saídas."
      ],
      "metadata": {
        "id": "TDpSAwkjYOrN"
      }
    },
    {
      "cell_type": "markdown",
      "source": [
        "### Segundo módulo Inception"
      ],
      "metadata": {
        "id": "AgN4wDpJeRwz"
      }
    },
    {
      "cell_type": "code",
      "source": [
        "x = inception_module(x, filters_1x1=128, filters_3x3_reduce=128, filters_3x3=192, filters_5x5_reduce=32, filters_5x5=96, filters_pool_proj=64, name='inception_3b')"
      ],
      "metadata": {
        "id": "8OsSq5ZRYPCr"
      },
      "execution_count": null,
      "outputs": []
    },
    {
      "cell_type": "markdown",
      "source": [
        "Segundo módulo de Inception com diferentes configurações de filtros:\n",
        "\n",
        "1. `filters_1x1=128`: Define 128 filtros para a convolução 1x1.\n",
        "2. `filters_3x3_reduce=128`: Define 128 filtros para a camada de redução antes da convolução 3x3.\n",
        "3. `filters_3x3=192`: Define 192 filtros para a convolução 3x3.\n",
        "4. `filters_5x5_reduce=32`: Define 32 filtros para a camada de redução antes da convolução 5x5.\n",
        "5. `filters_5x5=96`: Define 96 filtros para a convolução 5x5.\n",
        "6. `filters_pool_proj=64`: Define 64 filtros para a projeção após a camada de pooling.\n",
        "7. `name='inception_3b'`: Define o nome do módulo como `inception_3b`.\n",
        "\n",
        "Este módulo de Inception, assim como o primeiro, combina várias convoluções e pooling para extrair características em diferentes escalas."
      ],
      "metadata": {
        "id": "7bgJphhVYo9T"
      }
    },
    {
      "cell_type": "markdown",
      "source": [
        "### MaxPooling dos dois primeiros módulos"
      ],
      "metadata": {
        "id": "-S7c9eXbeWtL"
      }
    },
    {
      "cell_type": "code",
      "source": [
        "x = MaxPooling2D((3, 3), padding='same', strides=(2, 2), name='max_pool_3_3x3div2')(x)"
      ],
      "metadata": {
        "id": "9KhcrcLbYpPv"
      },
      "execution_count": null,
      "outputs": []
    },
    {
      "cell_type": "markdown",
      "source": [
        "Após os módulos de Inception, uma camada de pooling máximo é aplicada:\n",
        "\n",
        "1. `MaxPooling2D`: Cria uma camada de pooling máximo bidimensional.\n",
        "2. `(3, 3)`: Tamanho da janela de pooling é 3x3.\n",
        "3. `padding='same'`: Mantém as dimensões espaciais da saída iguais às da entrada, adicionando zeros nas bordas quando necessário.\n",
        "4. `strides=(2, 2)`: A janela de pooling se move 2 pixels de cada vez na horizontal e na vertical, reduzindo as dimensões espaciais da saída.\n",
        "5. `name='max_pool_3_3x3div2'`: Nome da camada é `max_pool_3_3x3div2`.\n",
        "6. `(x)`: Aplica a operação de pooling ao tensor `x` resultante dos módulos de Inception anteriores."
      ],
      "metadata": {
        "id": "FNmG0CsFZGbn"
      }
    },
    {
      "cell_type": "markdown",
      "source": [
        "## Classificadores auxiliares (x1)"
      ],
      "metadata": {
        "id": "fEIHqYWpPh4o"
      }
    },
    {
      "cell_type": "markdown",
      "source": [
        "Este trecho de código implementa um classificador auxiliar, que é uma saída adicional na rede Inception. Esse classificador auxiliar ajuda no treinamento, fornecendo gradientes adicionais para camadas intermediárias, o que pode facilitar a convergência e mitigar o problema de gradientes desvanecentes."
      ],
      "metadata": {
        "id": "pci8L0A1Z1qT"
      }
    },
    {
      "cell_type": "markdown",
      "source": [
        "**Propósito do Classificador Auxiliar**\n",
        "\n",
        "O classificador auxiliar ajuda a rede a aprender melhor ao adicionar uma perda auxiliar durante o treinamento. Isso proporciona gradientes adicionais às camadas intermediárias, ajudando a evitar o problema de gradientes desvanecentes e acelerando a convergência da rede profunda. Durante a inferência, essa saída auxiliar pode ser ignorada, e apenas a saída principal da rede é usada para fazer previsões."
      ],
      "metadata": {
        "id": "fWZsRW_8cfm6"
      }
    },
    {
      "cell_type": "markdown",
      "source": [
        "**Resumo do Processo**\n",
        "\n",
        "1. `AveragePooling2D`: Reduz a resolução espacial pela metade com uma janela de 3x3 e stride de 2.\n",
        "2. `Conv2D 1x1`: Ajusta a profundidade do tensor para 128 canais.\n",
        "3. `Flatten`: Achata o tensor 4D (altura, largura, canais) em um vetor 1D.\n",
        "4. `Dense 1024`: Aplica uma camada totalmente conectada com 1024 neurônios e ativação ReLU.\n",
        "5. `Dropout`: Aplica dropout com uma taxa de 70% para evitar overfitting.\n",
        "6. `Dense 10`: Aplica a camada de saída com 10 neurônios e ativação softmax, produzindo a distribuição de probabilidade sobre as 10 classes do CIFAR-10."
      ],
      "metadata": {
        "id": "3nR0i6_8cM6-"
      }
    },
    {
      "cell_type": "code",
      "source": [
        "x1 = AveragePooling2D((3, 3), strides=2, padding='same')(x)"
      ],
      "metadata": {
        "id": "--WbSqxzPoVM"
      },
      "execution_count": null,
      "outputs": []
    },
    {
      "cell_type": "markdown",
      "source": [
        "* `AveragePooling2D`: Aplica uma camada de pooling médio bidimensional.\n",
        "* `(3, 3)`: Tamanho da janela de pooling é 3x3.\n",
        "* `strides=2`: A janela de pooling se move 2 pixels de cada vez, reduzindo a resolução espacial pela metade.\n",
        "* `padding='same'`: A saída tem o mesmo tamanho que a entrada, com preenchimento de zeros nas bordas quando necessário.\n",
        "* `(x)`: Aplica a operação de pooling ao tensor x resultante das camadas anteriores."
      ],
      "metadata": {
        "id": "U5p1ecJsaA_C"
      }
    },
    {
      "cell_type": "code",
      "source": [
        "x1 = Conv2D(128, (1, 1), padding='same', activation='relu')(x1)"
      ],
      "metadata": {
        "id": "fOxfVVveaBSl"
      },
      "execution_count": null,
      "outputs": []
    },
    {
      "cell_type": "markdown",
      "source": [
        "* `Conv2D`: Aplica uma camada de convolução bidimensional.\n",
        "* `128`: Número de filtros na convolução.\n",
        "* `(1, 1)`: Tamanho do kernel é 1x1, usado para modificar a profundidade do tensor sem alterar as dimensões espaciais.\n",
        "* `padding='same'`: Mantém as dimensões espaciais da entrada.\n",
        "* `activation='relu'`: Função de ativação ReLU.\n",
        "* `(x1)`: Aplica a convolução ao tensor `x1` resultante da camada de pooling médio."
      ],
      "metadata": {
        "id": "HQY-pXM6agrj"
      }
    },
    {
      "cell_type": "code",
      "source": [
        "x1 = Flatten()(x1)"
      ],
      "metadata": {
        "id": "qtN2lRZ4ahBP"
      },
      "execution_count": null,
      "outputs": []
    },
    {
      "cell_type": "markdown",
      "source": [
        "* `Flatten`: Achata o tensor de entrada em uma única dimensão (vetor), preparando-o para ser passado para uma camada totalmente conectada (densa)."
      ],
      "metadata": {
        "id": "uZxuJIZ9bYxW"
      }
    },
    {
      "cell_type": "code",
      "source": [
        "x1 = Dense(2048, activation='relu')(x1)"
      ],
      "metadata": {
        "id": "F-nq6Hq-bZEM"
      },
      "execution_count": null,
      "outputs": []
    },
    {
      "cell_type": "markdown",
      "source": [
        "* `Dense`: Aplica uma camada totalmente conectada (densa).\n",
        "* `1024`: Número de neurônios na camada densa.\n",
        "* `activation='relu'`: Função de ativação ReLU.\n",
        "* `(x1)`: Aplica a camada densa ao tensor achatado."
      ],
      "metadata": {
        "id": "KTECxDOBbg9E"
      }
    },
    {
      "cell_type": "code",
      "source": [
        "x1 = Dropout(0.2)(x1)"
      ],
      "metadata": {
        "id": "Vct4EW2mbhWd"
      },
      "execution_count": null,
      "outputs": []
    },
    {
      "cell_type": "markdown",
      "source": [
        "* `Dropout`: Aplica uma camada de dropout, que desativa aleatoriamente 70% dos neurônios durante o treinamento para evitar overfitting.\n",
        "* `0.7`: Taxa de dropout (70% dos neurônios são desativados aleatoriamente).\n",
        "* `(x1)`: Aplica a camada de dropout ao tensor resultante da camada densa."
      ],
      "metadata": {
        "id": "F02VTtXDbuPK"
      }
    },
    {
      "cell_type": "code",
      "source": [
        "x1 = Dense(10, activation='softmax', name='auxilliary_output_1')(x1)"
      ],
      "metadata": {
        "id": "7pj9GaiwbugX"
      },
      "execution_count": null,
      "outputs": []
    },
    {
      "cell_type": "markdown",
      "source": [
        "* `Dense`: Aplica outra camada totalmente conectada (densa).\n",
        "* `10`: Número de neurônios na camada de saída, correspondente ao número de classes no CIFAR-10.\n",
        "* `activation='softmax'`: Função de ativação softmax, que converte os valores dos neurônios em probabilidades.\n",
        "* `name='auxilliary_output_1'`: Nome da camada de saída auxiliar.\n",
        "* `(x1)`: Aplica a camada densa ao tensor resultante da camada de dropout"
      ],
      "metadata": {
        "id": "kuGhxjLKb8UR"
      }
    },
    {
      "cell_type": "markdown",
      "source": [
        "## Mais módulos de Inception e o classificador final"
      ],
      "metadata": {
        "id": "WmNSc7wGPo_O"
      }
    },
    {
      "cell_type": "markdown",
      "source": [
        "Este trecho de código define a parte final da rede Inception, onde as características extraídas são compactadas e transformadas em previsões de classe através de uma camada totalmente conectada com softmax."
      ],
      "metadata": {
        "id": "yiNDRBS4d_3N"
      }
    },
    {
      "cell_type": "markdown",
      "source": [
        "**Resumo do Processo**\n",
        "\n",
        "1. Módulos de Inception (5a e 5b):\n",
        "\n",
        "    * Cada módulo de Inception combina várias convoluções (1x1, 3x3 com redução, 5x5 com redução) e pooling seguido de uma projeção (convolução 1x1).\n",
        "    * As saídas dessas operações são concatenadas para formar um único tensor de saída.\n",
        "\n",
        "2. Global Average Pooling:\n",
        "\n",
        "    * Reduz cada mapa de características a um único valor (a média), resultando em um vetor de saída com uma dimensão por canal.\n",
        "    * Prepara os dados para a camada densa final, reduzindo drasticamente a dimensionalidade.\n",
        "\n",
        "3. Dropout:\n",
        "\n",
        "    * Aplica uma taxa de dropout de 40% para evitar overfitting, desativando aleatoriamente neurônios durante o treinamento.\n",
        "\n",
        "4. Camada Densa Final:\n",
        "\n",
        "    * Aplica uma camada densa com 10 neurônios e ativação softmax para produzir a distribuição de probabilidade sobre as 10 classes do CIFAR-10."
      ],
      "metadata": {
        "id": "K12O7p3-du6o"
      }
    },
    {
      "cell_type": "markdown",
      "source": [
        "### Terceiro Módulo Inception"
      ],
      "metadata": {
        "id": "_Mlpe4aueGGj"
      }
    },
    {
      "cell_type": "code",
      "source": [
        "x = inception_module(x, filters_1x1=256, filters_3x3_reduce=160, filters_3x3=320, filters_5x5_reduce=32, filters_5x5=128, filters_pool_proj=128, name='inception_5a')"
      ],
      "metadata": {
        "id": "DiLKaaI0bt8h"
      },
      "execution_count": null,
      "outputs": []
    },
    {
      "cell_type": "markdown",
      "source": [
        "\n",
        "* `inception_module`: Chama a função inception_module para criar e aplicar um módulo de Inception à entrada `x`.\n",
        "* `filters_1x1=256`: Define 256 filtros para a convolução 1x1.\n",
        "* `filters_3x3_reduce=160`: Define 160 filtros para a camada de redução antes da convolução 3x3.\n",
        "* `filters_3x3=320`: Define 320 filtros para a convolução 3x3.\n",
        "* `filters_5x5_reduce=32`: Define 32 filtros para a camada de redução antes da convolução 5x5.\n",
        "* `filters_5x5=128`: Define 128 filtros para a convolução 5x5.\n",
        "* `filters_pool_proj=128`: Define 128 filtros para a projeção após a camada de pooling.\n",
        "* `name='inception_5a'`: Define o nome do módulo como `'inception_5a'`.\n",
        "\n",
        "Este módulo de Inception combina várias convoluções (1x1, 3x3 com redução, 5x5 com redução) e pooling seguido de uma projeção (convolução 1x1), concatenando suas saídas."
      ],
      "metadata": {
        "id": "PKWnEN8qeEbq"
      }
    },
    {
      "cell_type": "markdown",
      "source": [
        "### Quarto Módulo Inception"
      ],
      "metadata": {
        "id": "QIf56TVue4Se"
      }
    },
    {
      "cell_type": "code",
      "source": [
        "x = inception_module(x, filters_1x1=384, filters_3x3_reduce=192, filters_3x3=384, filters_5x5_reduce=48, filters_5x5=128, filters_pool_proj=128, name='inception_5b')"
      ],
      "metadata": {
        "id": "Z1CLM1Ybe39Q"
      },
      "execution_count": null,
      "outputs": []
    },
    {
      "cell_type": "markdown",
      "source": [
        "* `filters_1x1=384`: Define 384 filtros para a convolução 1x1.\n",
        "* `filters_3x3_reduce=192`: Define 192 filtros para a camada de redução antes da convolução 3x3.\n",
        "* `filters_3x3=384`: Define 384 filtros para a convolução 3x3.\n",
        "* `filters_5x5_reduce=48`: Define 48 filtros para a camada de redução antes da convolução 5x5.\n",
        "* `filters_5x5=128`: Define 128 filtros para a convolução 5x5.\n",
        "* `filters_pool_proj=128`: Define 128 filtros para a projeção após a camada de pooling.\n",
        "* `name='inception_5b'`: Define o nome do módulo como `'inception_5b'`.\n",
        "\n",
        "Assim como os módulos anteriores, este módulo de Inception combina várias convoluções e pooling para extrair características em diferentes escalas."
      ],
      "metadata": {
        "id": "uiBnLrxte4q-"
      }
    },
    {
      "cell_type": "markdown",
      "source": [
        "### Global average pooling"
      ],
      "metadata": {
        "id": "Gg2MTn6ZkACA"
      }
    },
    {
      "cell_type": "code",
      "source": [
        "x = GlobalAveragePooling2D(name='avg_pool_5_3x3/1')(x)"
      ],
      "metadata": {
        "id": "bTV_FdtDfCGy"
      },
      "execution_count": null,
      "outputs": []
    },
    {
      "cell_type": "markdown",
      "source": [
        "* `GlobalAveragePooling2D`: Aplica uma operação de pooling médio global.\n",
        "Em vez de usar uma janela deslizante, essa camada calcula a média de cada mapa de características inteiro.\n",
        "* `name='avg_pool_5_3x3/1'`: Nome da camada.\n",
        "* `(x)`: Aplica a operação de pooling ao tensor x resultante do módulo de Inception anterior.\n",
        "\n",
        "A operação de pooling médio global reduz cada mapa de características a um único valor (a média), resultando em um vetor de saída com uma dimensão por canal. Isso ajuda a reduzir drasticamente a dimensionalidade, preparando os dados para a camada densa final."
      ],
      "metadata": {
        "id": "Kt-zyRFSkKAU"
      }
    },
    {
      "cell_type": "markdown",
      "source": [
        "### Dropout"
      ],
      "metadata": {
        "id": "2Oh_k3v2ke8f"
      }
    },
    {
      "cell_type": "code",
      "source": [
        "x = Dropout(0.2)(x)"
      ],
      "metadata": {
        "id": "Y5NX93HtkKTS"
      },
      "execution_count": null,
      "outputs": []
    },
    {
      "cell_type": "markdown",
      "source": [
        "* `Dropout`: Aplica uma camada de dropout, que desativa aleatoriamente uma fração dos neurônios durante o treinamento para evitar overfitting.\n",
        "* `0.4`: Taxa de dropout (40% dos neurônios são desativados aleatoriamente).\n",
        "* `(x)`: Aplica a camada de dropout ao tensor x resultante da operação de pooling médio global."
      ],
      "metadata": {
        "id": "JRtAEAx2kiRi"
      }
    },
    {
      "cell_type": "markdown",
      "source": [
        "### Dense"
      ],
      "metadata": {
        "id": "lNXN2_Kakpri"
      }
    },
    {
      "cell_type": "code",
      "source": [
        "x = Dense(10, activation='softmax', name='output')(x)"
      ],
      "metadata": {
        "id": "2akRx2IBksP0"
      },
      "execution_count": null,
      "outputs": []
    },
    {
      "cell_type": "markdown",
      "source": [
        "* `Dense`: Aplica uma camada totalmente conectada (densa).\n",
        "* `10`: Número de neurônios na camada de saída, correspondente ao número de classes no CIFAR-10.\n",
        "* `activation='softmax'`: Função de ativação softmax, que converte os valores dos neurônios em probabilidades, uma para cada classe.\n",
        "* `name='output'`: Nome da camada de saída.\n",
        "* `(x)`: Aplica a camada densa ao tensor x resultante da camada de dropout."
      ],
      "metadata": {
        "id": "K2Nr0F-1ks_a"
      }
    },
    {
      "cell_type": "markdown",
      "source": [
        "## Criação do Modelo Final com Saídas Principais e Auxiliares"
      ],
      "metadata": {
        "id": "OYJxl3LqdjMM"
      }
    },
    {
      "cell_type": "markdown",
      "source": [
        "**Propósito do Modelo com Saídas Auxiliares**\n",
        "\n",
        "**Saída Principal `(x)`**\n",
        "\n",
        "A saída principal do modelo (x) é responsável por produzir a previsão final sobre as classes do CIFAR-10. Passa por várias camadas convolucionais, módulos de Inception, pooling e uma camada densa com softmax. É a saída usada para inferência (previsões) após o modelo ser treinado.\n",
        "\n",
        "**Saída Auxiliar `(x1)`**\n",
        "\n",
        "A saída auxiliar (x1) é usada durante o treinamento para ajudar a rede a aprender melhor. Ao adicionar uma perda auxiliar, o modelo recebe gradientes adicionais nas camadas intermediárias, o que pode ajudar a:\n",
        "\n",
        "* Mitigar o problema de gradientes desvanecentes: Aumenta a estabilidade do treinamento em redes profundas.\n",
        "* Acelerar a convergência: Proporciona uma maneira adicional de ajustar os pesos nas camadas intermediárias."
      ],
      "metadata": {
        "id": "zAZMu6Q4lyN_"
      }
    },
    {
      "cell_type": "code",
      "source": [
        "# Cria o modelo final com as saídas principais e auxiliares\n",
        "model = Model(input_layer, [x, x1], name='inception_v1')"
      ],
      "metadata": {
        "id": "Uuximf2paTpt"
      },
      "execution_count": null,
      "outputs": []
    },
    {
      "cell_type": "markdown",
      "source": [
        "1. `Model`: A função Model da API funcional do Keras é usada para criar um modelo.\n",
        "\n",
        "2. `input_layer`: Este é o tensor de entrada do modelo, definido anteriormente como:\n",
        "```\n",
        "input_layer = Input(shape=(32, 32, 3))\n",
        "```\n",
        "Isso especifica que o modelo espera receber imagens de entrada com forma 32x32 pixels e 3 canais (RGB).\n",
        "\n",
        "3. `[x, x1]`: Esta é uma lista de tensores de saída do modelo. Vamos detalhar esses tensores:\n",
        "\n",
        "    * `x`: Este é o tensor da saída principal do modelo, que passa por vários módulos de Inception, pooling médio global, dropout, e uma camada densa final com softmax. Representa a previsão principal do modelo.\n",
        "    * `x1`: Este é o tensor da saída auxiliar, que passa por pooling, convolução 1x1, flatten, camada densa, dropout, e uma camada densa final com softmax. Representa uma previsão auxiliar usada durante o treinamento para fornecer gradientes adicionais.\n",
        "4. `name='inception_v1'`: Este é o nome do modelo, que pode ser usado para identificar o modelo posteriormente. Aqui, é nomeado como 'inception_v1'."
      ],
      "metadata": {
        "id": "6OTxpsU6lRYV"
      }
    },
    {
      "cell_type": "markdown",
      "source": [
        "### Modelo Completo"
      ],
      "metadata": {
        "id": "QKB-eL0Yk--o"
      }
    },
    {
      "cell_type": "markdown",
      "source": [
        "Ao combinar essas saídas, o modelo final é criado para:\n",
        "\n",
        "* Receber imagens de entrada com forma 32x32x3.\n",
        "* Produzir previsões através da saída principal `(x)` e auxiliar `(x1)`.\n",
        "* Durante o treinamento, ambas as saídas são usadas para calcular a perda total e ajustar os pesos.\n",
        "* Durante a inferência, apenas a saída principal é usada para fazer previsões."
      ],
      "metadata": {
        "id": "JY9tjn2qmLEa"
      }
    },
    {
      "cell_type": "markdown",
      "source": [
        "### Visualização Simplificada do Modelo"
      ],
      "metadata": {
        "id": "6YE6Sn3ImTuf"
      }
    },
    {
      "cell_type": "markdown",
      "source": [
        "```\n",
        "Input Layer (32x32x3)\n",
        "       |\n",
        "       v\n",
        "Convoluções, Pooling, Inception Modules, etc.\n",
        "       |\n",
        "       |-------------------------------------|\n",
        "       |                                     |\n",
        "       v                                     v\n",
        "Main Output (x)                          Auxiliary Output (x1)\n",
        "  (Softmax)                                (Softmax)\n",
        "\n",
        "```"
      ],
      "metadata": {
        "id": "gIZw71ibmggx"
      }
    },
    {
      "cell_type": "markdown",
      "source": [
        "* `Input Layer`: Recebe a imagem de entrada.\n",
        "* `Bloco de Processamento`: Inclui todas as camadas convolucionais, módulos de Inception, pooling, etc.\n",
        "* `Main Output (x)`: Saída principal com softmax para prever classes.\n",
        "* `Auxiliary Output (x1)`: Saída auxiliar com softmax para prever classes, usada durante o treinamento."
      ],
      "metadata": {
        "id": "LNwPeIflmHxz"
      }
    },
    {
      "cell_type": "code",
      "source": [
        "# Resumo da arquitetura do modelo\n",
        "model.summary()"
      ],
      "metadata": {
        "id": "Vjels-wAaUb_",
        "colab": {
          "base_uri": "https://localhost:8080/"
        },
        "outputId": "4a54025f-2a58-4780-bd85-4747ee96e903"
      },
      "execution_count": null,
      "outputs": [
        {
          "output_type": "stream",
          "name": "stdout",
          "text": [
            "Model: \"inception_v1\"\n",
            "__________________________________________________________________________________________________\n",
            " Layer (type)                Output Shape                 Param #   Connected to                  \n",
            "==================================================================================================\n",
            " input_1 (InputLayer)        [(None, 32, 32, 3)]          0         []                            \n",
            "                                                                                                  \n",
            " conv_1_7x7div2 (Conv2D)     (None, 16, 16, 64)           9472      ['input_1[0][0]']             \n",
            "                                                                                                  \n",
            " max_pool_1_3x3div2 (MaxPoo  (None, 8, 8, 64)             0         ['conv_1_7x7div2[0][0]']      \n",
            " ling2D)                                                                                          \n",
            "                                                                                                  \n",
            " conv_2a_3x3div1 (Conv2D)    (None, 8, 8, 64)             4160      ['max_pool_1_3x3div2[0][0]']  \n",
            "                                                                                                  \n",
            " conv_2b_3x3div1 (Conv2D)    (None, 8, 8, 192)            110784    ['conv_2a_3x3div1[0][0]']     \n",
            "                                                                                                  \n",
            " max_pool_2_3x3div2 (MaxPoo  (None, 4, 4, 192)            0         ['conv_2b_3x3div1[0][0]']     \n",
            " ling2D)                                                                                          \n",
            "                                                                                                  \n",
            " conv2d_1 (Conv2D)           (None, 4, 4, 96)             18528     ['max_pool_2_3x3div2[0][0]']  \n",
            "                                                                                                  \n",
            " conv2d_3 (Conv2D)           (None, 4, 4, 16)             3088      ['max_pool_2_3x3div2[0][0]']  \n",
            "                                                                                                  \n",
            " max_pooling2d (MaxPooling2  (None, 4, 4, 192)            0         ['max_pool_2_3x3div2[0][0]']  \n",
            " D)                                                                                               \n",
            "                                                                                                  \n",
            " conv2d (Conv2D)             (None, 4, 4, 64)             12352     ['max_pool_2_3x3div2[0][0]']  \n",
            "                                                                                                  \n",
            " conv2d_2 (Conv2D)           (None, 4, 4, 128)            110720    ['conv2d_1[0][0]']            \n",
            "                                                                                                  \n",
            " conv2d_4 (Conv2D)           (None, 4, 4, 32)             12832     ['conv2d_3[0][0]']            \n",
            "                                                                                                  \n",
            " conv2d_5 (Conv2D)           (None, 4, 4, 32)             6176      ['max_pooling2d[0][0]']       \n",
            "                                                                                                  \n",
            " inception_3a (Concatenate)  (None, 4, 4, 256)            0         ['conv2d[0][0]',              \n",
            "                                                                     'conv2d_2[0][0]',            \n",
            "                                                                     'conv2d_4[0][0]',            \n",
            "                                                                     'conv2d_5[0][0]']            \n",
            "                                                                                                  \n",
            " conv2d_7 (Conv2D)           (None, 4, 4, 128)            32896     ['inception_3a[0][0]']        \n",
            "                                                                                                  \n",
            " conv2d_9 (Conv2D)           (None, 4, 4, 32)             8224      ['inception_3a[0][0]']        \n",
            "                                                                                                  \n",
            " max_pooling2d_1 (MaxPoolin  (None, 4, 4, 256)            0         ['inception_3a[0][0]']        \n",
            " g2D)                                                                                             \n",
            "                                                                                                  \n",
            " conv2d_6 (Conv2D)           (None, 4, 4, 128)            32896     ['inception_3a[0][0]']        \n",
            "                                                                                                  \n",
            " conv2d_8 (Conv2D)           (None, 4, 4, 192)            221376    ['conv2d_7[0][0]']            \n",
            "                                                                                                  \n",
            " conv2d_10 (Conv2D)          (None, 4, 4, 96)             76896     ['conv2d_9[0][0]']            \n",
            "                                                                                                  \n",
            " conv2d_11 (Conv2D)          (None, 4, 4, 64)             16448     ['max_pooling2d_1[0][0]']     \n",
            "                                                                                                  \n",
            " inception_3b (Concatenate)  (None, 4, 4, 480)            0         ['conv2d_6[0][0]',            \n",
            "                                                                     'conv2d_8[0][0]',            \n",
            "                                                                     'conv2d_10[0][0]',           \n",
            "                                                                     'conv2d_11[0][0]']           \n",
            "                                                                                                  \n",
            " max_pool_3_3x3div2 (MaxPoo  (None, 2, 2, 480)            0         ['inception_3b[0][0]']        \n",
            " ling2D)                                                                                          \n",
            "                                                                                                  \n",
            " conv2d_14 (Conv2D)          (None, 2, 2, 160)            76960     ['max_pool_3_3x3div2[0][0]']  \n",
            "                                                                                                  \n",
            " conv2d_16 (Conv2D)          (None, 2, 2, 32)             15392     ['max_pool_3_3x3div2[0][0]']  \n",
            "                                                                                                  \n",
            " max_pooling2d_2 (MaxPoolin  (None, 2, 2, 480)            0         ['max_pool_3_3x3div2[0][0]']  \n",
            " g2D)                                                                                             \n",
            "                                                                                                  \n",
            " conv2d_13 (Conv2D)          (None, 2, 2, 256)            123136    ['max_pool_3_3x3div2[0][0]']  \n",
            "                                                                                                  \n",
            " conv2d_15 (Conv2D)          (None, 2, 2, 320)            461120    ['conv2d_14[0][0]']           \n",
            "                                                                                                  \n",
            " conv2d_17 (Conv2D)          (None, 2, 2, 128)            102528    ['conv2d_16[0][0]']           \n",
            "                                                                                                  \n",
            " conv2d_18 (Conv2D)          (None, 2, 2, 128)            61568     ['max_pooling2d_2[0][0]']     \n",
            "                                                                                                  \n",
            " inception_5a (Concatenate)  (None, 2, 2, 832)            0         ['conv2d_13[0][0]',           \n",
            "                                                                     'conv2d_15[0][0]',           \n",
            "                                                                     'conv2d_17[0][0]',           \n",
            "                                                                     'conv2d_18[0][0]']           \n",
            "                                                                                                  \n",
            " conv2d_20 (Conv2D)          (None, 2, 2, 192)            159936    ['inception_5a[0][0]']        \n",
            "                                                                                                  \n",
            " conv2d_22 (Conv2D)          (None, 2, 2, 48)             39984     ['inception_5a[0][0]']        \n",
            "                                                                                                  \n",
            " max_pooling2d_3 (MaxPoolin  (None, 2, 2, 832)            0         ['inception_5a[0][0]']        \n",
            " g2D)                                                                                             \n",
            "                                                                                                  \n",
            " average_pooling2d (Average  (None, 1, 1, 480)            0         ['max_pool_3_3x3div2[0][0]']  \n",
            " Pooling2D)                                                                                       \n",
            "                                                                                                  \n",
            " conv2d_19 (Conv2D)          (None, 2, 2, 384)            319872    ['inception_5a[0][0]']        \n",
            "                                                                                                  \n",
            " conv2d_21 (Conv2D)          (None, 2, 2, 384)            663936    ['conv2d_20[0][0]']           \n",
            "                                                                                                  \n",
            " conv2d_23 (Conv2D)          (None, 2, 2, 128)            153728    ['conv2d_22[0][0]']           \n",
            "                                                                                                  \n",
            " conv2d_24 (Conv2D)          (None, 2, 2, 128)            106624    ['max_pooling2d_3[0][0]']     \n",
            "                                                                                                  \n",
            " conv2d_12 (Conv2D)          (None, 1, 1, 128)            61568     ['average_pooling2d[0][0]']   \n",
            "                                                                                                  \n",
            " inception_5b (Concatenate)  (None, 2, 2, 1024)           0         ['conv2d_19[0][0]',           \n",
            "                                                                     'conv2d_21[0][0]',           \n",
            "                                                                     'conv2d_23[0][0]',           \n",
            "                                                                     'conv2d_24[0][0]']           \n",
            "                                                                                                  \n",
            " flatten (Flatten)           (None, 128)                  0         ['conv2d_12[0][0]']           \n",
            "                                                                                                  \n",
            " avg_pool_5_3x3/1 (GlobalAv  (None, 1024)                 0         ['inception_5b[0][0]']        \n",
            " eragePooling2D)                                                                                  \n",
            "                                                                                                  \n",
            " dense (Dense)               (None, 2048)                 264192    ['flatten[0][0]']             \n",
            "                                                                                                  \n",
            " dropout_1 (Dropout)         (None, 1024)                 0         ['avg_pool_5_3x3/1[0][0]']    \n",
            "                                                                                                  \n",
            " dropout (Dropout)           (None, 2048)                 0         ['dense[0][0]']               \n",
            "                                                                                                  \n",
            " output (Dense)              (None, 10)                   10250     ['dropout_1[0][0]']           \n",
            "                                                                                                  \n",
            " auxilliary_output_1 (Dense  (None, 10)                   20490     ['dropout[0][0]']             \n",
            " )                                                                                                \n",
            "                                                                                                  \n",
            "==================================================================================================\n",
            "Total params: 3318132 (12.66 MB)\n",
            "Trainable params: 3318132 (12.66 MB)\n",
            "Non-trainable params: 0 (0.00 Byte)\n",
            "__________________________________________________________________________________________________\n"
          ]
        }
      ]
    },
    {
      "cell_type": "markdown",
      "source": [
        "### Parâmetros de treinamento"
      ],
      "metadata": {
        "id": "P6xaWXYroLx7"
      }
    },
    {
      "cell_type": "code",
      "source": [
        "# Parâmetros de treinamento\n",
        "epochs = 100\n",
        "initial_lrate = 0.01"
      ],
      "metadata": {
        "id": "zR6XgLAHb3t7"
      },
      "execution_count": null,
      "outputs": []
    },
    {
      "cell_type": "markdown",
      "source": [
        "#### Função de decaimento da Taxa de Aprendizado"
      ],
      "metadata": {
        "id": "jIaVKSeFoOoj"
      }
    },
    {
      "cell_type": "markdown",
      "source": [
        "A taxa de aprendizado é um hiperparâmetro crucial no treinamento de redes neurais. Ajustar a taxa de aprendizado ao longo do treinamento pode ajudar a melhorar a convergência do modelo. A função `decay` abaixo implementa uma estratégia de decaimento da taxa de aprendizado.\n",
        "\n",
        "**Estratégia de Decaimento**\n",
        "\n",
        "A estratégia de decaimento utilizada aqui é conhecida como **decaimento exponencial em etapas**. A cada epochs_drop épocas, a taxa de aprendizado é multiplicada por um fator drop (0.96). Isso significa que a taxa de aprendizado diminui exponencialmente ao longo do tempo, o que pode ajudar o modelo a convergir de forma mais estável e evitar sobreajustes."
      ],
      "metadata": {
        "id": "s620V66EoW_g"
      }
    },
    {
      "cell_type": "code",
      "source": [
        "# Função de decaimento da taxa de aprendizado\n",
        "def decay(epoch):\n",
        "    drop = 0.96\n",
        "    epochs_drop = 5\n",
        "    lrate = initial_lrate * math.pow(drop, math.floor((1+epoch)/epochs_drop))\n",
        "    return lrate"
      ],
      "metadata": {
        "id": "JgM6KHfCaZdx"
      },
      "execution_count": null,
      "outputs": []
    },
    {
      "cell_type": "markdown",
      "source": [
        "* `epoch`: O número atual da época (ou iteração) do treinamento.\n",
        "* `drop = 0.96`: Define a taxa de decaimento. Isso significa que a taxa de aprendizado será multiplicada por 0.96 a cada período definido por epochs_drop.\n",
        "* `epochs_drop = 8`: Define o número de épocas após o qual a taxa de aprendizado será ajustada (decairá).\n",
        "\n",
        "Cálculo da nova Taxa de Aprendizado:\n",
        "\n",
        "```\n",
        "lrate = initial_lrate * math.pow(drop, math.floor((1 + epoch) / epochs_drop))\n",
        "```\n",
        "* `initial_lrate`: Supõe-se que initial_lrate seja a taxa de aprendizado inicial definida fora da função (no seu caso, 0.01).\n",
        "* `math.pow(drop, math.floor((1 + epoch) / epochs_drop))`: Calcula o fator de decaimento da taxa de aprendizado:\n",
        "    * `math.floor((1 + epoch) / epochs_drop)`: Divide o número atual da época pelo número de épocas para o decaimento e arredonda para baixo (função piso). Isso conta quantas vezes a taxa de aprendizado deve decair até a época atual.\n",
        "    * `math.pow(drop, ...)`: Eleva drop (0.96) à potência do número de vezes que a taxa de aprendizado deve decair.\n",
        "    * Multiplica `initial_lrate` pelo fator de decaimento: Isso ajusta a taxa de aprendizado com base no número de épocas transcorridas."
      ],
      "metadata": {
        "id": "I5V5ob_bqCEx"
      }
    },
    {
      "cell_type": "markdown",
      "source": [
        "## Configuração do Otimizador e Callback de Decaimento da Taxa de Aprendizado"
      ],
      "metadata": {
        "id": "qU9mudrLnOiI"
      }
    },
    {
      "cell_type": "markdown",
      "source": [
        "### Parâmetros do Otimizador\n",
        "\n",
        "Para o conjunto de dados CIFAR-10, o Adam é frequentemente recomendado devido à sua capacidade de ajustar dinamicamente a taxa de aprendizado e convergir rapidamente. No entanto, SGD com momentum é outra escolha excelente e frequentemente usada em arquiteturas de rede profundas, como ResNet e VGG, devido ao seu controle e desempenho estáveis."
      ],
      "metadata": {
        "id": "VLm6tOnxrLZz"
      }
    },
    {
      "cell_type": "markdown",
      "source": [
        "#### Para implementação com SGD (Stochacstic Gradient Descent)"
      ],
      "metadata": {
        "id": "N3X0gLVusRAK"
      }
    },
    {
      "cell_type": "markdown",
      "source": [
        "**SGD com Momentum**\n",
        "\n",
        "* Vantagens:\n",
        "    * Simplicidade e controle.\n",
        "    * Bom desempenho em muitos problemas de visão computacional.\n",
        "    * O momentum ajuda a acelerar a convergência e a evitar mínimos locais.\n",
        "* Desvantagens:\n",
        "    * Requer ajuste manual da taxa de aprendizado.\n",
        "    * Pode ser mais lento na convergência inicial em comparação com otimizadores adaptativos."
      ],
      "metadata": {
        "id": "AhBwTpfKtQvY"
      }
    },
    {
      "cell_type": "code",
      "source": [
        "optim = SGD(learning_rate=initial_lrate, momentum=0.9, nesterov=False)"
      ],
      "metadata": {
        "id": "suqJPDIkcDUO"
      },
      "execution_count": null,
      "outputs": []
    },
    {
      "cell_type": "markdown",
      "source": [
        "1. SGD: Importa e configura o otimizador Stochastic Gradient Descent (SGD). O SGD é um dos otimizadores mais populares em redes neurais devido à sua simplicidade e eficiência em muitos problemas de aprendizado.\n",
        "\n",
        "2. Parâmetros do SGD:\n",
        "\n",
        "    * `learning_rate=initial_lrate`: Define a taxa de aprendizado inicial do otimizador. No seu caso, initial_lrate foi definido como 0.01. A taxa de aprendizado controla o tamanho dos passos dados durante a descida do gradiente, ou seja, quão grandes são as atualizações feitas nos pesos da rede em cada iteração.\n",
        "    * `momentum=0.9`: O termo momentum é usado para acelerar o treinamento e ajudar a evitar mínimos locais. O valor 0.9 indica que 90% do gradiente anterior é usado para suavizar a trajetória do treinamento.\n",
        "    * `nesterov=False`: Nesterov momentum é uma variação do método de momentum que pode levar a uma convergência mais rápida. Aqui, está configurado como False, indicando que o momentum padrão está sendo usado."
      ],
      "metadata": {
        "id": "vv-G6PrKs62Q"
      }
    },
    {
      "cell_type": "markdown",
      "source": [
        "#### Para implementação com Rmsprop"
      ],
      "metadata": {
        "id": "Z3OX6QfutiSD"
      }
    },
    {
      "cell_type": "markdown",
      "source": [
        "* **Vantagens:**\n",
        "    * Taxas de aprendizado adaptativas.\n",
        "    * Eficaz em problemas onde as taxas de aprendizado precisam ser ajustadas dinamicamente.\n",
        "    * Boa convergência em problemas de visão computacional.\n",
        "* **Desvantagens:**\n",
        "    * Pode precisar de ajuste cuidadoso dos hiperparâmetros."
      ],
      "metadata": {
        "id": "ri6qmv4itk8H"
      }
    },
    {
      "cell_type": "code",
      "source": [
        "optim = RMSprop(learning_rate=initial_lrate)"
      ],
      "metadata": {
        "id": "0ch-AbBVuCnA"
      },
      "execution_count": null,
      "outputs": []
    },
    {
      "cell_type": "markdown",
      "source": [
        "#### Para implementação com Adam"
      ],
      "metadata": {
        "id": "OdjscBLOuM_e"
      }
    },
    {
      "cell_type": "markdown",
      "source": [
        "* **Vantagens:**\n",
        "\n",
        "* Combina as vantagens de dois outros otimizadores: AdaGrad e RMSprop.\n",
        "Taxas de aprendizado adaptativas, ajustando automaticamente.\n",
        "* Geralmente requer menos ajuste manual.\n",
        "* Convergência rápida e eficiente.\n",
        "\n",
        "* **Desvantagens:**\n",
        "* Pode ser mais sensível à escolha de hiperparâmetros como taxa de aprendizado inicial.\n",
        "* Pode, em alguns casos, sobreajustar em conjuntos de dados ruidosos."
      ],
      "metadata": {
        "id": "6p5SiQ9UuQ7M"
      }
    },
    {
      "cell_type": "code",
      "source": [
        "optim = Adam(learning_rate=initial_lrate)"
      ],
      "metadata": {
        "id": "D-nOBNueuegX"
      },
      "execution_count": null,
      "outputs": []
    },
    {
      "cell_type": "markdown",
      "source": [
        "### Callback de Decaimento da Taxa de Aprendizado"
      ],
      "metadata": {
        "id": "2q8o9cA5sdAN"
      }
    },
    {
      "cell_type": "code",
      "source": [
        "lr_sc = LearningRateScheduler(decay, verbose=1)"
      ],
      "metadata": {
        "id": "Hn3h3Qs-scVx"
      },
      "execution_count": null,
      "outputs": []
    },
    {
      "cell_type": "markdown",
      "source": [
        "1. `LearningRateScheduler`: Importa e configura o callback LearningRateScheduler do Keras, que ajusta a taxa de aprendizado durante o treinamento com base em uma função definida pelo usuário.\n",
        "\n",
        "2. Parâmetros do `LearningRateScheduler`:\n",
        "\n",
        "    * `decay`: Passa a função decay definida anteriormente, que calcula a nova taxa de aprendizado com base na época atual. Esta função é chamada no início de cada época para ajustar a taxa de aprendizado.\n",
        "    * `verbose=1`: Define o nível de verbosidade. Quando verbose=1, o callback imprimirá a nova taxa de aprendizado no início de cada época, permitindo que você monitore como a taxa de aprendizado está mudando ao longo do tempo."
      ],
      "metadata": {
        "id": "NlOg5EvRsrwz"
      }
    },
    {
      "cell_type": "markdown",
      "source": [
        "## Compilação do modelo"
      ],
      "metadata": {
        "id": "KGaJvoUIrJJH"
      }
    },
    {
      "cell_type": "code",
      "source": [
        "model.compile(\n",
        "    loss=['categorical_crossentropy', 'categorical_crossentropy'],\n",
        "    loss_weights=[1, 0.3],\n",
        "    optimizer=optim,\n",
        "    metrics=[['accuracy'], ['accuracy']]\n",
        ")"
      ],
      "metadata": {
        "id": "2N295NUecH8o"
      },
      "execution_count": null,
      "outputs": []
    },
    {
      "cell_type": "markdown",
      "source": [
        "### `loss`\n",
        "```\n",
        "loss=['categorical_crossentropy', 'categorical_crossentropy'],\n",
        "```"
      ],
      "metadata": {
        "id": "TgItzT4Jvtz6"
      }
    },
    {
      "cell_type": "markdown",
      "source": [
        "* Especifica as funções de perda a serem usadas para cada uma das saídas do modelo.\n",
        "* `categorical_crossentropy`: É uma função de perda usada para problemas de classificação multi-classe, onde as classes são mutuamente exclusivas.\n",
        "* A primeira função de perda se aplica à saída principal do modelo (saída x).\n",
        "* A segunda função de perda se aplica à saída auxiliar do modelo (saída x1)."
      ],
      "metadata": {
        "id": "AjpRkLkFzeJR"
      }
    },
    {
      "cell_type": "markdown",
      "source": [
        "**Considerações**\n",
        "\n",
        "* **Escolha da Perda:** A escolha da função de perda depende das características específicas do problema e dos dados. `categorical_crossentropy` e `sparse_categorical_crossentropy` são geralmente as melhores escolhas para problemas de classificação multi-classe.\n",
        "* **Performance:** A função de perda escolhida pode impactar a convergência e a performance final do modelo. Experimentar com diferentes funções de perda pode ajudar a encontrar a melhor opção para seu problema específico.\n",
        "* **Métricas:** A métrica `accuracy` é adequada para problemas de classificação, mas você pode também experimentar outras métricas como `top_k_categorical_accuracy` para avaliar a performance em problemas onde múltiplas classes são relevantes.\n",
        "\n",
        "Ao experimentar diferentes funções de perda, você pode observar como cada uma afeta o treinamento e a performance do seu modelo, permitindo ajustar e otimizar conforme necessário."
      ],
      "metadata": {
        "id": "JJ00VIbuyG1u"
      }
    },
    {
      "cell_type": "markdown",
      "source": [
        "##### Outras funções de loss"
      ],
      "metadata": {
        "id": "uftY4AQXwKm8"
      }
    },
    {
      "cell_type": "markdown",
      "source": [
        "###### 1. Sparse Categorical Crossentropy\n",
        "\n",
        "A sparse_categorical_crossentropy é útil quando as etiquetas são fornecidas como inteiros em vez de vetores one-hot.\n",
        "\n",
        "```\n",
        "loss='sparse_categorical_crossentropy'\n",
        "```\n",
        "\n",
        "* Semelhante à `categorical_crossentropy`, mas aceita etiquetas inteiras em vez de vetores one-hot.\n",
        "* Pode ser mais eficiente em termos de memória e tempo de processamento, especialmente para grandes conjuntos de dados."
      ],
      "metadata": {
        "id": "w_28NuQ7wTpD"
      }
    },
    {
      "cell_type": "markdown",
      "source": [
        "###### 2. Mean Squared Error (MSE)\n",
        "\n",
        "Embora seja mais comumente usada para problemas de regressão, a `mean_squared_error` também pode ser usada para classificação em certas situações.\n",
        "\n",
        "```\n",
        "loss='mean_squared_error'\n",
        "```\n",
        "\n",
        "* Calcula a média dos quadrados das diferenças entre as previsões e as verdadeiras etiquetas.\n",
        "* Pode ser útil em situações onde se deseja penalizar fortemente grandes erros, mas não é a escolha padrão para classificação."
      ],
      "metadata": {
        "id": "nyRsKzl_wmJo"
      }
    },
    {
      "cell_type": "markdown",
      "source": [
        "###### 3. Hinge Loss\n",
        "\n",
        "A `hinge` loss é frequentemente usada para classificadores de margem, como SVMs, mas também pode ser aplicada em redes neurais.\n",
        "\n",
        "```\n",
        "loss='hinge'\n",
        "```\n",
        "\n",
        "* Penaliza previsões incorretas que estão além da margem de decisão.\n",
        "* Pode ser adaptada para classificadores binários e multi-classe."
      ],
      "metadata": {
        "id": "AN3s0-6QxM7x"
      }
    },
    {
      "cell_type": "markdown",
      "source": [
        "###### 4. Categorical Hinge\n",
        "\n",
        "A `categorical_hinge` é uma extensão da hinge loss para problemas de classificação multi-classe.\n",
        "\n",
        "```\n",
        "loss='categorical_hinge'\n",
        "```\n",
        "\n",
        "* Penaliza a diferença entre a previsão correta e a maior previsão incorreta.\n",
        "* Pode ser mais robusta a outliers em alguns cenários de classificação."
      ],
      "metadata": {
        "id": "jvWluISsxdnc"
      }
    },
    {
      "cell_type": "markdown",
      "source": [
        "###### 5. Kullback-Leibler Divergence (KL Divergence)\n",
        "\n",
        "A `kullback_leibler_divergence` mede a diferença entre duas distribuições de probabilidade.\n",
        "\n",
        "```\n",
        "loss='kullback_leibler_divergence'\n",
        "```\n",
        "\n",
        "* Útil em situações onde se está comparando distribuições de probabilidade.\n",
        "* Pode ser usada quando as saídas do modelo são distribuições de probabilidade."
      ],
      "metadata": {
        "id": "aJ5rAQBSxt56"
      }
    },
    {
      "cell_type": "markdown",
      "source": [
        "### `loss_weights`\n",
        "\n",
        "```\n",
        "loss_weights=[1, 0.3],\n",
        "```"
      ],
      "metadata": {
        "id": "ONjXwbNgwPHg"
      }
    },
    {
      "cell_type": "markdown",
      "source": [
        "* Especifica os pesos atribuídos a cada uma das perdas no cálculo da perda total.\n",
        "    * `1`: A perda associada à saída principal tem um peso de 1.\n",
        "    * `0.3`: A perda associada à saída auxiliar tem um peso de 0.3.\n",
        "* Isso significa que a perda da saída auxiliar contribui com 30% da perda total, enquanto a perda da saída principal contribui com 100% da perda total.\n",
        "* A razão para usar pesos diferentes é que a saída auxiliar é usada principalmente para ajudar no treinamento das camadas intermediárias e não deve dominar a perda total."
      ],
      "metadata": {
        "id": "G_3gZOoBzZvP"
      }
    },
    {
      "cell_type": "markdown",
      "source": [
        "### `optimizer`\n",
        "\n",
        "```\n",
        "optimizer=optim,\n",
        "```"
      ],
      "metadata": {
        "id": "IgIdyO59y-O1"
      }
    },
    {
      "cell_type": "markdown",
      "source": [
        "* Especifica o otimizador a ser usado durante o treinamento do modelo.\n",
        "* Para este exemplo, foram codificados:\n",
        "    * SGD com Momentum\n",
        "    ```\n",
        "    optim = SGD(learning_rate=initial_lrate, momentum=0.9, nesterov=False)\n",
        "    ```\n",
        "    * Rmsprop\n",
        "    ```\n",
        "    optim = RMSprop(learning_rate=initial_lrate)\n",
        "    ```\n",
        "    * Adam\n",
        "    ```\n",
        "    optim = Adam(learning_rate=initial_lrate)\n",
        "    ```"
      ],
      "metadata": {
        "id": "kvm2XLklzjdl"
      }
    },
    {
      "cell_type": "markdown",
      "source": [
        "### `metrics`\n",
        "\n",
        "```\n",
        "metrics=[['accuracy'], ['accuracy']]\n",
        "```"
      ],
      "metadata": {
        "id": "ykbswwQX0QKW"
      }
    },
    {
      "cell_type": "markdown",
      "source": [
        "* Especifica as métricas a serem calculadas para cada uma das saídas do modelo.\n",
        "* `[['accuracy'], ['accuracy']]`: Indica que a acurácia será calculada para ambas as saídas, a principal e a auxiliar.\n",
        "* A acurácia é uma métrica comum para problemas de classificação, representando a proporção de previsões corretas em relação ao total de previsões."
      ],
      "metadata": {
        "id": "3DypqheB0Y4Y"
      }
    },
    {
      "cell_type": "markdown",
      "source": [
        "## Treinamento do modelo"
      ],
      "metadata": {
        "id": "UVg_g0Wh1Iq8"
      }
    },
    {
      "cell_type": "code",
      "source": [
        "with tf.device('/gpu:0'):\n",
        "    model.fit(X_train, [y_train, y_train], validation_data=(X_test, [y_test, y_test]), epochs=epochs, batch_size=512, callbacks=[lr_sc])"
      ],
      "metadata": {
        "id": "wSK_24BxlBa-",
        "colab": {
          "base_uri": "https://localhost:8080/"
        },
        "outputId": "8e66b3ce-6a3a-4e26-c85d-3dfff70a4ba2"
      },
      "execution_count": null,
      "outputs": [
        {
          "output_type": "stream",
          "name": "stdout",
          "text": [
            "\n",
            "Epoch 1: LearningRateScheduler setting learning rate to 0.01.\n",
            "Epoch 1/100\n",
            "98/98 [==============================] - 29s 116ms/step - loss: 14.4494 - output_loss: 13.6045 - auxilliary_output_1_loss: 2.8164 - output_accuracy: 0.1220 - auxilliary_output_1_accuracy: 0.1253 - val_loss: 2.7796 - val_output_loss: 2.1376 - val_auxilliary_output_1_loss: 2.1400 - val_output_accuracy: 0.1676 - val_auxilliary_output_1_accuracy: 0.1722 - lr: 0.0100\n",
            "\n",
            "Epoch 2: LearningRateScheduler setting learning rate to 0.01.\n",
            "Epoch 2/100\n",
            "98/98 [==============================] - 6s 59ms/step - loss: 2.6710 - output_loss: 2.0527 - auxilliary_output_1_loss: 2.0608 - output_accuracy: 0.2254 - auxilliary_output_1_accuracy: 0.2200 - val_loss: 2.5159 - val_output_loss: 1.9322 - val_auxilliary_output_1_loss: 1.9454 - val_output_accuracy: 0.2937 - val_auxilliary_output_1_accuracy: 0.2731 - lr: 0.0100\n",
            "\n",
            "Epoch 3: LearningRateScheduler setting learning rate to 0.01.\n",
            "Epoch 3/100\n",
            "98/98 [==============================] - 6s 57ms/step - loss: 2.4581 - output_loss: 1.8883 - auxilliary_output_1_loss: 1.8995 - output_accuracy: 0.2978 - auxilliary_output_1_accuracy: 0.2921 - val_loss: 2.3680 - val_output_loss: 1.8193 - val_auxilliary_output_1_loss: 1.8291 - val_output_accuracy: 0.3246 - val_auxilliary_output_1_accuracy: 0.3174 - lr: 0.0100\n",
            "\n",
            "Epoch 4: LearningRateScheduler setting learning rate to 0.01.\n",
            "Epoch 4/100\n",
            "98/98 [==============================] - 6s 58ms/step - loss: 2.3295 - output_loss: 1.7864 - auxilliary_output_1_loss: 1.8105 - output_accuracy: 0.3446 - auxilliary_output_1_accuracy: 0.3311 - val_loss: 2.2452 - val_output_loss: 1.7207 - val_auxilliary_output_1_loss: 1.7485 - val_output_accuracy: 0.3696 - val_auxilliary_output_1_accuracy: 0.3585 - lr: 0.0100\n",
            "\n",
            "Epoch 5: LearningRateScheduler setting learning rate to 0.0096.\n",
            "Epoch 5/100\n",
            "98/98 [==============================] - 6s 59ms/step - loss: 2.1975 - output_loss: 1.6869 - auxilliary_output_1_loss: 1.7019 - output_accuracy: 0.3843 - auxilliary_output_1_accuracy: 0.3772 - val_loss: 2.1242 - val_output_loss: 1.6272 - val_auxilliary_output_1_loss: 1.6568 - val_output_accuracy: 0.4131 - val_auxilliary_output_1_accuracy: 0.3997 - lr: 0.0096\n",
            "\n",
            "Epoch 6: LearningRateScheduler setting learning rate to 0.0096.\n",
            "Epoch 6/100\n",
            "98/98 [==============================] - 6s 57ms/step - loss: 2.1092 - output_loss: 1.6184 - auxilliary_output_1_loss: 1.6361 - output_accuracy: 0.4117 - auxilliary_output_1_accuracy: 0.4028 - val_loss: 2.0479 - val_output_loss: 1.5735 - val_auxilliary_output_1_loss: 1.5813 - val_output_accuracy: 0.4257 - val_auxilliary_output_1_accuracy: 0.4217 - lr: 0.0096\n",
            "\n",
            "Epoch 7: LearningRateScheduler setting learning rate to 0.0096.\n",
            "Epoch 7/100\n",
            "98/98 [==============================] - 6s 58ms/step - loss: 2.0434 - output_loss: 1.5675 - auxilliary_output_1_loss: 1.5862 - output_accuracy: 0.4320 - auxilliary_output_1_accuracy: 0.4267 - val_loss: 2.0826 - val_output_loss: 1.5999 - val_auxilliary_output_1_loss: 1.6091 - val_output_accuracy: 0.4168 - val_auxilliary_output_1_accuracy: 0.4116 - lr: 0.0096\n",
            "\n",
            "Epoch 8: LearningRateScheduler setting learning rate to 0.0096.\n",
            "Epoch 8/100\n",
            "98/98 [==============================] - 6s 57ms/step - loss: 1.9835 - output_loss: 1.5211 - auxilliary_output_1_loss: 1.5415 - output_accuracy: 0.4498 - auxilliary_output_1_accuracy: 0.4434 - val_loss: 1.9980 - val_output_loss: 1.5328 - val_auxilliary_output_1_loss: 1.5505 - val_output_accuracy: 0.4381 - val_auxilliary_output_1_accuracy: 0.4272 - lr: 0.0096\n",
            "\n",
            "Epoch 9: LearningRateScheduler setting learning rate to 0.0096.\n",
            "Epoch 9/100\n",
            "98/98 [==============================] - 6s 58ms/step - loss: 1.9658 - output_loss: 1.5063 - auxilliary_output_1_loss: 1.5315 - output_accuracy: 0.4581 - auxilliary_output_1_accuracy: 0.4463 - val_loss: 1.9642 - val_output_loss: 1.5057 - val_auxilliary_output_1_loss: 1.5282 - val_output_accuracy: 0.4522 - val_auxilliary_output_1_accuracy: 0.4449 - lr: 0.0096\n",
            "\n",
            "Epoch 10: LearningRateScheduler setting learning rate to 0.009216.\n",
            "Epoch 10/100\n",
            "98/98 [==============================] - 6s 57ms/step - loss: 1.9138 - output_loss: 1.4658 - auxilliary_output_1_loss: 1.4933 - output_accuracy: 0.4712 - auxilliary_output_1_accuracy: 0.4612 - val_loss: 1.9365 - val_output_loss: 1.4841 - val_auxilliary_output_1_loss: 1.5082 - val_output_accuracy: 0.4620 - val_auxilliary_output_1_accuracy: 0.4512 - lr: 0.0092\n",
            "\n",
            "Epoch 11: LearningRateScheduler setting learning rate to 0.009216.\n",
            "Epoch 11/100\n",
            "98/98 [==============================] - 6s 58ms/step - loss: 1.8745 - output_loss: 1.4344 - auxilliary_output_1_loss: 1.4670 - output_accuracy: 0.4808 - auxilliary_output_1_accuracy: 0.4678 - val_loss: 1.9714 - val_output_loss: 1.5117 - val_auxilliary_output_1_loss: 1.5325 - val_output_accuracy: 0.4630 - val_auxilliary_output_1_accuracy: 0.4558 - lr: 0.0092\n",
            "\n",
            "Epoch 12: LearningRateScheduler setting learning rate to 0.009216.\n",
            "Epoch 12/100\n",
            "98/98 [==============================] - 6s 57ms/step - loss: 1.8661 - output_loss: 1.4277 - auxilliary_output_1_loss: 1.4615 - output_accuracy: 0.4849 - auxilliary_output_1_accuracy: 0.4704 - val_loss: 1.9048 - val_output_loss: 1.4634 - val_auxilliary_output_1_loss: 1.4716 - val_output_accuracy: 0.4701 - val_auxilliary_output_1_accuracy: 0.4642 - lr: 0.0092\n",
            "\n",
            "Epoch 13: LearningRateScheduler setting learning rate to 0.009216.\n",
            "Epoch 13/100\n",
            "98/98 [==============================] - 6s 58ms/step - loss: 1.8489 - output_loss: 1.4144 - auxilliary_output_1_loss: 1.4482 - output_accuracy: 0.4894 - auxilliary_output_1_accuracy: 0.4756 - val_loss: 1.9190 - val_output_loss: 1.4688 - val_auxilliary_output_1_loss: 1.5009 - val_output_accuracy: 0.4658 - val_auxilliary_output_1_accuracy: 0.4542 - lr: 0.0092\n",
            "\n",
            "Epoch 14: LearningRateScheduler setting learning rate to 0.009216.\n",
            "Epoch 14/100\n",
            "98/98 [==============================] - 6s 57ms/step - loss: 1.8119 - output_loss: 1.3842 - auxilliary_output_1_loss: 1.4256 - output_accuracy: 0.4998 - auxilliary_output_1_accuracy: 0.4862 - val_loss: 1.9034 - val_output_loss: 1.4600 - val_auxilliary_output_1_loss: 1.4781 - val_output_accuracy: 0.4691 - val_auxilliary_output_1_accuracy: 0.4621 - lr: 0.0092\n",
            "\n",
            "Epoch 15: LearningRateScheduler setting learning rate to 0.008847359999999999.\n",
            "Epoch 15/100\n",
            "98/98 [==============================] - 6s 57ms/step - loss: 1.7898 - output_loss: 1.3672 - auxilliary_output_1_loss: 1.4088 - output_accuracy: 0.5097 - auxilliary_output_1_accuracy: 0.4918 - val_loss: 2.0084 - val_output_loss: 1.5370 - val_auxilliary_output_1_loss: 1.5714 - val_output_accuracy: 0.4539 - val_auxilliary_output_1_accuracy: 0.4446 - lr: 0.0088\n",
            "\n",
            "Epoch 16: LearningRateScheduler setting learning rate to 0.008847359999999999.\n",
            "Epoch 16/100\n",
            "98/98 [==============================] - 6s 58ms/step - loss: 1.7627 - output_loss: 1.3454 - auxilliary_output_1_loss: 1.3912 - output_accuracy: 0.5120 - auxilliary_output_1_accuracy: 0.5008 - val_loss: 1.9705 - val_output_loss: 1.5081 - val_auxilliary_output_1_loss: 1.5414 - val_output_accuracy: 0.4608 - val_auxilliary_output_1_accuracy: 0.4523 - lr: 0.0088\n",
            "\n",
            "Epoch 17: LearningRateScheduler setting learning rate to 0.008847359999999999.\n",
            "Epoch 17/100\n",
            "98/98 [==============================] - 6s 57ms/step - loss: 1.7532 - output_loss: 1.3377 - auxilliary_output_1_loss: 1.3851 - output_accuracy: 0.5163 - auxilliary_output_1_accuracy: 0.5011 - val_loss: 1.9290 - val_output_loss: 1.4809 - val_auxilliary_output_1_loss: 1.4937 - val_output_accuracy: 0.4709 - val_auxilliary_output_1_accuracy: 0.4599 - lr: 0.0088\n",
            "\n",
            "Epoch 18: LearningRateScheduler setting learning rate to 0.008847359999999999.\n",
            "Epoch 18/100\n",
            "98/98 [==============================] - 6s 58ms/step - loss: 1.7351 - output_loss: 1.3229 - auxilliary_output_1_loss: 1.3741 - output_accuracy: 0.5246 - auxilliary_output_1_accuracy: 0.5023 - val_loss: 1.8798 - val_output_loss: 1.4378 - val_auxilliary_output_1_loss: 1.4733 - val_output_accuracy: 0.4839 - val_auxilliary_output_1_accuracy: 0.4679 - lr: 0.0088\n",
            "\n",
            "Epoch 19: LearningRateScheduler setting learning rate to 0.008847359999999999.\n",
            "Epoch 19/100\n",
            "98/98 [==============================] - 6s 57ms/step - loss: 1.7081 - output_loss: 1.3010 - auxilliary_output_1_loss: 1.3572 - output_accuracy: 0.5335 - auxilliary_output_1_accuracy: 0.5126 - val_loss: 2.0103 - val_output_loss: 1.5444 - val_auxilliary_output_1_loss: 1.5529 - val_output_accuracy: 0.4620 - val_auxilliary_output_1_accuracy: 0.4507 - lr: 0.0088\n",
            "\n",
            "Epoch 20: LearningRateScheduler setting learning rate to 0.008493465599999998.\n",
            "Epoch 20/100\n",
            "98/98 [==============================] - 6s 59ms/step - loss: 1.7109 - output_loss: 1.3021 - auxilliary_output_1_loss: 1.3627 - output_accuracy: 0.5335 - auxilliary_output_1_accuracy: 0.5101 - val_loss: 1.8966 - val_output_loss: 1.4501 - val_auxilliary_output_1_loss: 1.4884 - val_output_accuracy: 0.4856 - val_auxilliary_output_1_accuracy: 0.4760 - lr: 0.0085\n",
            "\n",
            "Epoch 21: LearningRateScheduler setting learning rate to 0.008493465599999998.\n",
            "Epoch 21/100\n",
            "98/98 [==============================] - 6s 59ms/step - loss: 1.6790 - output_loss: 1.2763 - auxilliary_output_1_loss: 1.3423 - output_accuracy: 0.5391 - auxilliary_output_1_accuracy: 0.5150 - val_loss: 1.9193 - val_output_loss: 1.4781 - val_auxilliary_output_1_loss: 1.4707 - val_output_accuracy: 0.4772 - val_auxilliary_output_1_accuracy: 0.4697 - lr: 0.0085\n",
            "\n",
            "Epoch 22: LearningRateScheduler setting learning rate to 0.008493465599999998.\n",
            "Epoch 22/100\n",
            "98/98 [==============================] - 6s 58ms/step - loss: 1.6478 - output_loss: 1.2513 - auxilliary_output_1_loss: 1.3218 - output_accuracy: 0.5484 - auxilliary_output_1_accuracy: 0.5249 - val_loss: 1.8937 - val_output_loss: 1.4534 - val_auxilliary_output_1_loss: 1.4676 - val_output_accuracy: 0.4826 - val_auxilliary_output_1_accuracy: 0.4735 - lr: 0.0085\n",
            "\n",
            "Epoch 23: LearningRateScheduler setting learning rate to 0.008493465599999998.\n",
            "Epoch 23/100\n",
            "98/98 [==============================] - 6s 57ms/step - loss: 1.6411 - output_loss: 1.2461 - auxilliary_output_1_loss: 1.3167 - output_accuracy: 0.5534 - auxilliary_output_1_accuracy: 0.5281 - val_loss: 1.9527 - val_output_loss: 1.5007 - val_auxilliary_output_1_loss: 1.5067 - val_output_accuracy: 0.4668 - val_auxilliary_output_1_accuracy: 0.4575 - lr: 0.0085\n",
            "\n",
            "Epoch 24: LearningRateScheduler setting learning rate to 0.008493465599999998.\n",
            "Epoch 24/100\n",
            "98/98 [==============================] - 6s 58ms/step - loss: 1.6209 - output_loss: 1.2293 - auxilliary_output_1_loss: 1.3055 - output_accuracy: 0.5561 - auxilliary_output_1_accuracy: 0.5314 - val_loss: 1.9521 - val_output_loss: 1.4986 - val_auxilliary_output_1_loss: 1.5116 - val_output_accuracy: 0.4708 - val_auxilliary_output_1_accuracy: 0.4651 - lr: 0.0085\n",
            "\n",
            "Epoch 25: LearningRateScheduler setting learning rate to 0.008153726976.\n",
            "Epoch 25/100\n",
            "98/98 [==============================] - 6s 58ms/step - loss: 1.6010 - output_loss: 1.2147 - auxilliary_output_1_loss: 1.2878 - output_accuracy: 0.5630 - auxilliary_output_1_accuracy: 0.5357 - val_loss: 1.9606 - val_output_loss: 1.5111 - val_auxilliary_output_1_loss: 1.4980 - val_output_accuracy: 0.4795 - val_auxilliary_output_1_accuracy: 0.4776 - lr: 0.0082\n",
            "\n",
            "Epoch 26: LearningRateScheduler setting learning rate to 0.008153726976.\n",
            "Epoch 26/100\n",
            "98/98 [==============================] - 6s 58ms/step - loss: 1.5458 - output_loss: 1.1694 - auxilliary_output_1_loss: 1.2546 - output_accuracy: 0.5772 - auxilliary_output_1_accuracy: 0.5482 - val_loss: 1.9316 - val_output_loss: 1.4881 - val_auxilliary_output_1_loss: 1.4780 - val_output_accuracy: 0.4836 - val_auxilliary_output_1_accuracy: 0.4744 - lr: 0.0082\n",
            "\n",
            "Epoch 27: LearningRateScheduler setting learning rate to 0.008153726976.\n",
            "Epoch 27/100\n",
            "98/98 [==============================] - 6s 59ms/step - loss: 1.5694 - output_loss: 1.1862 - auxilliary_output_1_loss: 1.2775 - output_accuracy: 0.5725 - auxilliary_output_1_accuracy: 0.5427 - val_loss: 1.9918 - val_output_loss: 1.5301 - val_auxilliary_output_1_loss: 1.5390 - val_output_accuracy: 0.4630 - val_auxilliary_output_1_accuracy: 0.4555 - lr: 0.0082\n",
            "\n",
            "Epoch 28: LearningRateScheduler setting learning rate to 0.008153726976.\n",
            "Epoch 28/100\n",
            "98/98 [==============================] - 6s 57ms/step - loss: 1.5259 - output_loss: 1.1523 - auxilliary_output_1_loss: 1.2454 - output_accuracy: 0.5845 - auxilliary_output_1_accuracy: 0.5551 - val_loss: 2.0039 - val_output_loss: 1.5413 - val_auxilliary_output_1_loss: 1.5422 - val_output_accuracy: 0.4704 - val_auxilliary_output_1_accuracy: 0.4554 - lr: 0.0082\n",
            "\n",
            "Epoch 29: LearningRateScheduler setting learning rate to 0.008153726976.\n",
            "Epoch 29/100\n",
            "98/98 [==============================] - 6s 59ms/step - loss: 1.5223 - output_loss: 1.1477 - auxilliary_output_1_loss: 1.2486 - output_accuracy: 0.5866 - auxilliary_output_1_accuracy: 0.5534 - val_loss: 2.0948 - val_output_loss: 1.6093 - val_auxilliary_output_1_loss: 1.6182 - val_output_accuracy: 0.4563 - val_auxilliary_output_1_accuracy: 0.4450 - lr: 0.0082\n",
            "\n",
            "Epoch 30: LearningRateScheduler setting learning rate to 0.007827577896959998.\n",
            "Epoch 30/100\n",
            "98/98 [==============================] - 6s 57ms/step - loss: 1.5113 - output_loss: 1.1382 - auxilliary_output_1_loss: 1.2437 - output_accuracy: 0.5900 - auxilliary_output_1_accuracy: 0.5551 - val_loss: 2.0014 - val_output_loss: 1.5449 - val_auxilliary_output_1_loss: 1.5219 - val_output_accuracy: 0.4767 - val_auxilliary_output_1_accuracy: 0.4689 - lr: 0.0078\n",
            "\n",
            "Epoch 31: LearningRateScheduler setting learning rate to 0.007827577896959998.\n",
            "Epoch 31/100\n",
            "98/98 [==============================] - 6s 58ms/step - loss: 1.4922 - output_loss: 1.1234 - auxilliary_output_1_loss: 1.2292 - output_accuracy: 0.5943 - auxilliary_output_1_accuracy: 0.5588 - val_loss: 2.0383 - val_output_loss: 1.5689 - val_auxilliary_output_1_loss: 1.5647 - val_output_accuracy: 0.4763 - val_auxilliary_output_1_accuracy: 0.4592 - lr: 0.0078\n",
            "\n",
            "Epoch 32: LearningRateScheduler setting learning rate to 0.007827577896959998.\n",
            "Epoch 32/100\n",
            "98/98 [==============================] - 6s 57ms/step - loss: 1.4613 - output_loss: 1.0986 - auxilliary_output_1_loss: 1.2089 - output_accuracy: 0.6027 - auxilliary_output_1_accuracy: 0.5687 - val_loss: 2.0870 - val_output_loss: 1.6061 - val_auxilliary_output_1_loss: 1.6031 - val_output_accuracy: 0.4660 - val_auxilliary_output_1_accuracy: 0.4578 - lr: 0.0078\n",
            "\n",
            "Epoch 33: LearningRateScheduler setting learning rate to 0.007827577896959998.\n",
            "Epoch 33/100\n",
            "98/98 [==============================] - 6s 59ms/step - loss: 1.4542 - output_loss: 1.0927 - auxilliary_output_1_loss: 1.2047 - output_accuracy: 0.6071 - auxilliary_output_1_accuracy: 0.5690 - val_loss: 2.0139 - val_output_loss: 1.5507 - val_auxilliary_output_1_loss: 1.5442 - val_output_accuracy: 0.4718 - val_auxilliary_output_1_accuracy: 0.4627 - lr: 0.0078\n",
            "\n",
            "Epoch 34: LearningRateScheduler setting learning rate to 0.007827577896959998.\n",
            "Epoch 34/100\n",
            "98/98 [==============================] - 6s 57ms/step - loss: 1.4447 - output_loss: 1.0848 - auxilliary_output_1_loss: 1.1997 - output_accuracy: 0.6090 - auxilliary_output_1_accuracy: 0.5702 - val_loss: 2.1307 - val_output_loss: 1.6455 - val_auxilliary_output_1_loss: 1.6173 - val_output_accuracy: 0.4661 - val_auxilliary_output_1_accuracy: 0.4583 - lr: 0.0078\n",
            "\n",
            "Epoch 35: LearningRateScheduler setting learning rate to 0.007514474781081598.\n",
            "Epoch 35/100\n",
            "98/98 [==============================] - 6s 58ms/step - loss: 1.3832 - output_loss: 1.0335 - auxilliary_output_1_loss: 1.1653 - output_accuracy: 0.6275 - auxilliary_output_1_accuracy: 0.5836 - val_loss: 2.0789 - val_output_loss: 1.6066 - val_auxilliary_output_1_loss: 1.5741 - val_output_accuracy: 0.4761 - val_auxilliary_output_1_accuracy: 0.4701 - lr: 0.0075\n",
            "\n",
            "Epoch 36: LearningRateScheduler setting learning rate to 0.007514474781081598.\n",
            "Epoch 36/100\n",
            "98/98 [==============================] - 6s 58ms/step - loss: 1.3668 - output_loss: 1.0192 - auxilliary_output_1_loss: 1.1587 - output_accuracy: 0.6322 - auxilliary_output_1_accuracy: 0.5865 - val_loss: 2.1556 - val_output_loss: 1.6764 - val_auxilliary_output_1_loss: 1.5973 - val_output_accuracy: 0.4636 - val_auxilliary_output_1_accuracy: 0.4563 - lr: 0.0075\n",
            "\n",
            "Epoch 37: LearningRateScheduler setting learning rate to 0.007514474781081598.\n",
            "Epoch 37/100\n",
            "98/98 [==============================] - 6s 57ms/step - loss: 1.3188 - output_loss: 0.9821 - auxilliary_output_1_loss: 1.1221 - output_accuracy: 0.6451 - auxilliary_output_1_accuracy: 0.5971 - val_loss: 2.1468 - val_output_loss: 1.6669 - val_auxilliary_output_1_loss: 1.5997 - val_output_accuracy: 0.4732 - val_auxilliary_output_1_accuracy: 0.4677 - lr: 0.0075\n",
            "\n",
            "Epoch 38: LearningRateScheduler setting learning rate to 0.007514474781081598.\n",
            "Epoch 38/100\n",
            "98/98 [==============================] - 6s 58ms/step - loss: 1.3125 - output_loss: 0.9752 - auxilliary_output_1_loss: 1.1241 - output_accuracy: 0.6469 - auxilliary_output_1_accuracy: 0.5988 - val_loss: 2.1454 - val_output_loss: 1.6745 - val_auxilliary_output_1_loss: 1.5695 - val_output_accuracy: 0.4630 - val_auxilliary_output_1_accuracy: 0.4658 - lr: 0.0075\n",
            "\n",
            "Epoch 39: LearningRateScheduler setting learning rate to 0.007514474781081598.\n",
            "Epoch 39/100\n",
            "98/98 [==============================] - 6s 57ms/step - loss: 1.3500 - output_loss: 1.0063 - auxilliary_output_1_loss: 1.1456 - output_accuracy: 0.6402 - auxilliary_output_1_accuracy: 0.5892 - val_loss: 2.1509 - val_output_loss: 1.6708 - val_auxilliary_output_1_loss: 1.6003 - val_output_accuracy: 0.4621 - val_auxilliary_output_1_accuracy: 0.4593 - lr: 0.0075\n",
            "\n",
            "Epoch 40: LearningRateScheduler setting learning rate to 0.007213895789838334.\n",
            "Epoch 40/100\n",
            "98/98 [==============================] - 6s 58ms/step - loss: 1.3785 - output_loss: 1.0278 - auxilliary_output_1_loss: 1.1691 - output_accuracy: 0.6305 - auxilliary_output_1_accuracy: 0.5847 - val_loss: 2.2272 - val_output_loss: 1.7368 - val_auxilliary_output_1_loss: 1.6348 - val_output_accuracy: 0.4645 - val_auxilliary_output_1_accuracy: 0.4558 - lr: 0.0072\n",
            "\n",
            "Epoch 41: LearningRateScheduler setting learning rate to 0.007213895789838334.\n",
            "Epoch 41/100\n",
            "98/98 [==============================] - 6s 57ms/step - loss: 1.2687 - output_loss: 0.9382 - auxilliary_output_1_loss: 1.1017 - output_accuracy: 0.6653 - auxilliary_output_1_accuracy: 0.6075 - val_loss: 2.2491 - val_output_loss: 1.7619 - val_auxilliary_output_1_loss: 1.6239 - val_output_accuracy: 0.4604 - val_auxilliary_output_1_accuracy: 0.4598 - lr: 0.0072\n",
            "\n",
            "Epoch 42: LearningRateScheduler setting learning rate to 0.007213895789838334.\n",
            "Epoch 42/100\n",
            "98/98 [==============================] - 6s 59ms/step - loss: 1.2332 - output_loss: 0.9094 - auxilliary_output_1_loss: 1.0795 - output_accuracy: 0.6737 - auxilliary_output_1_accuracy: 0.6136 - val_loss: 2.3684 - val_output_loss: 1.8530 - val_auxilliary_output_1_loss: 1.7182 - val_output_accuracy: 0.4621 - val_auxilliary_output_1_accuracy: 0.4565 - lr: 0.0072\n",
            "\n",
            "Epoch 43: LearningRateScheduler setting learning rate to 0.007213895789838334.\n",
            "Epoch 43/100\n",
            "98/98 [==============================] - 6s 57ms/step - loss: 1.2066 - output_loss: 0.8886 - auxilliary_output_1_loss: 1.0599 - output_accuracy: 0.6814 - auxilliary_output_1_accuracy: 0.6213 - val_loss: 2.3172 - val_output_loss: 1.8205 - val_auxilliary_output_1_loss: 1.6559 - val_output_accuracy: 0.4648 - val_auxilliary_output_1_accuracy: 0.4605 - lr: 0.0072\n",
            "\n",
            "Epoch 44: LearningRateScheduler setting learning rate to 0.007213895789838334.\n",
            "Epoch 44/100\n",
            "98/98 [==============================] - 6s 59ms/step - loss: 1.1930 - output_loss: 0.8767 - auxilliary_output_1_loss: 1.0543 - output_accuracy: 0.6833 - auxilliary_output_1_accuracy: 0.6206 - val_loss: 2.3524 - val_output_loss: 1.8459 - val_auxilliary_output_1_loss: 1.6885 - val_output_accuracy: 0.4605 - val_auxilliary_output_1_accuracy: 0.4564 - lr: 0.0072\n",
            "\n",
            "Epoch 45: LearningRateScheduler setting learning rate to 0.0069253399582448.\n",
            "Epoch 45/100\n",
            "98/98 [==============================] - 6s 57ms/step - loss: 1.1413 - output_loss: 0.8327 - auxilliary_output_1_loss: 1.0285 - output_accuracy: 0.7009 - auxilliary_output_1_accuracy: 0.6319 - val_loss: 2.3409 - val_output_loss: 1.8359 - val_auxilliary_output_1_loss: 1.6835 - val_output_accuracy: 0.4678 - val_auxilliary_output_1_accuracy: 0.4615 - lr: 0.0069\n",
            "\n",
            "Epoch 46: LearningRateScheduler setting learning rate to 0.0069253399582448.\n",
            "Epoch 46/100\n",
            "98/98 [==============================] - 6s 58ms/step - loss: 1.1544 - output_loss: 0.8429 - auxilliary_output_1_loss: 1.0383 - output_accuracy: 0.6954 - auxilliary_output_1_accuracy: 0.6292 - val_loss: 2.5355 - val_output_loss: 2.0126 - val_auxilliary_output_1_loss: 1.7430 - val_output_accuracy: 0.4611 - val_auxilliary_output_1_accuracy: 0.4581 - lr: 0.0069\n",
            "\n",
            "Epoch 47: LearningRateScheduler setting learning rate to 0.0069253399582448.\n",
            "Epoch 47/100\n",
            "98/98 [==============================] - 6s 59ms/step - loss: 1.1147 - output_loss: 0.8111 - auxilliary_output_1_loss: 1.0119 - output_accuracy: 0.7079 - auxilliary_output_1_accuracy: 0.6384 - val_loss: 2.4908 - val_output_loss: 1.9733 - val_auxilliary_output_1_loss: 1.7247 - val_output_accuracy: 0.4636 - val_auxilliary_output_1_accuracy: 0.4625 - lr: 0.0069\n",
            "\n",
            "Epoch 48: LearningRateScheduler setting learning rate to 0.0069253399582448.\n",
            "Epoch 48/100\n",
            "98/98 [==============================] - 6s 57ms/step - loss: 1.1236 - output_loss: 0.8183 - auxilliary_output_1_loss: 1.0179 - output_accuracy: 0.7082 - auxilliary_output_1_accuracy: 0.6370 - val_loss: 2.4170 - val_output_loss: 1.8993 - val_auxilliary_output_1_loss: 1.7257 - val_output_accuracy: 0.4609 - val_auxilliary_output_1_accuracy: 0.4579 - lr: 0.0069\n",
            "\n",
            "Epoch 49: LearningRateScheduler setting learning rate to 0.0069253399582448.\n",
            "Epoch 49/100\n",
            "98/98 [==============================] - 6s 59ms/step - loss: 1.0615 - output_loss: 0.7664 - auxilliary_output_1_loss: 0.9836 - output_accuracy: 0.7246 - auxilliary_output_1_accuracy: 0.6495 - val_loss: 2.4953 - val_output_loss: 1.9775 - val_auxilliary_output_1_loss: 1.7260 - val_output_accuracy: 0.4633 - val_auxilliary_output_1_accuracy: 0.4651 - lr: 0.0069\n",
            "\n",
            "Epoch 50: LearningRateScheduler setting learning rate to 0.006648326359915008.\n",
            "Epoch 50/100\n",
            "98/98 [==============================] - 6s 57ms/step - loss: 1.0841 - output_loss: 0.7841 - auxilliary_output_1_loss: 1.0001 - output_accuracy: 0.7185 - auxilliary_output_1_accuracy: 0.6460 - val_loss: 2.4108 - val_output_loss: 1.9063 - val_auxilliary_output_1_loss: 1.6820 - val_output_accuracy: 0.4629 - val_auxilliary_output_1_accuracy: 0.4680 - lr: 0.0066\n",
            "\n",
            "Epoch 51: LearningRateScheduler setting learning rate to 0.006648326359915008.\n",
            "Epoch 51/100\n",
            "98/98 [==============================] - 6s 59ms/step - loss: 1.0096 - output_loss: 0.7226 - auxilliary_output_1_loss: 0.9567 - output_accuracy: 0.7412 - auxilliary_output_1_accuracy: 0.6599 - val_loss: 2.5616 - val_output_loss: 2.0384 - val_auxilliary_output_1_loss: 1.7442 - val_output_accuracy: 0.4553 - val_auxilliary_output_1_accuracy: 0.4550 - lr: 0.0066\n",
            "\n",
            "Epoch 52: LearningRateScheduler setting learning rate to 0.006648326359915008.\n",
            "Epoch 52/100\n",
            "98/98 [==============================] - 6s 58ms/step - loss: 1.0094 - output_loss: 0.7228 - auxilliary_output_1_loss: 0.9552 - output_accuracy: 0.7441 - auxilliary_output_1_accuracy: 0.6602 - val_loss: 2.5846 - val_output_loss: 2.0651 - val_auxilliary_output_1_loss: 1.7318 - val_output_accuracy: 0.4627 - val_auxilliary_output_1_accuracy: 0.4634 - lr: 0.0066\n",
            "\n",
            "Epoch 53: LearningRateScheduler setting learning rate to 0.006648326359915008.\n",
            "Epoch 53/100\n",
            "98/98 [==============================] - 6s 59ms/step - loss: 1.0673 - output_loss: 0.7702 - auxilliary_output_1_loss: 0.9906 - output_accuracy: 0.7247 - auxilliary_output_1_accuracy: 0.6479 - val_loss: 2.5231 - val_output_loss: 2.0011 - val_auxilliary_output_1_loss: 1.7400 - val_output_accuracy: 0.4645 - val_auxilliary_output_1_accuracy: 0.4642 - lr: 0.0066\n",
            "\n",
            "Epoch 54: LearningRateScheduler setting learning rate to 0.006648326359915008.\n",
            "Epoch 54/100\n",
            "98/98 [==============================] - 6s 58ms/step - loss: 1.0107 - output_loss: 0.7230 - auxilliary_output_1_loss: 0.9591 - output_accuracy: 0.7410 - auxilliary_output_1_accuracy: 0.6599 - val_loss: 2.7900 - val_output_loss: 2.2432 - val_auxilliary_output_1_loss: 1.8227 - val_output_accuracy: 0.4504 - val_auxilliary_output_1_accuracy: 0.4528 - lr: 0.0066\n",
            "\n",
            "Epoch 55: LearningRateScheduler setting learning rate to 0.006382393305518408.\n",
            "Epoch 55/100\n",
            "98/98 [==============================] - 6s 59ms/step - loss: 0.9286 - output_loss: 0.6545 - auxilliary_output_1_loss: 0.9139 - output_accuracy: 0.7662 - auxilliary_output_1_accuracy: 0.6740 - val_loss: 2.8597 - val_output_loss: 2.3005 - val_auxilliary_output_1_loss: 1.8639 - val_output_accuracy: 0.4569 - val_auxilliary_output_1_accuracy: 0.4573 - lr: 0.0064\n",
            "\n",
            "Epoch 56: LearningRateScheduler setting learning rate to 0.006382393305518408.\n",
            "Epoch 56/100\n",
            "98/98 [==============================] - 6s 58ms/step - loss: 0.9829 - output_loss: 0.7010 - auxilliary_output_1_loss: 0.9396 - output_accuracy: 0.7524 - auxilliary_output_1_accuracy: 0.6647 - val_loss: 2.8449 - val_output_loss: 2.2853 - val_auxilliary_output_1_loss: 1.8651 - val_output_accuracy: 0.4566 - val_auxilliary_output_1_accuracy: 0.4552 - lr: 0.0064\n",
            "\n",
            "Epoch 57: LearningRateScheduler setting learning rate to 0.006382393305518408.\n",
            "Epoch 57/100\n",
            "98/98 [==============================] - 6s 58ms/step - loss: 0.9185 - output_loss: 0.6457 - auxilliary_output_1_loss: 0.9094 - output_accuracy: 0.7699 - auxilliary_output_1_accuracy: 0.6774 - val_loss: 2.9059 - val_output_loss: 2.3383 - val_auxilliary_output_1_loss: 1.8921 - val_output_accuracy: 0.4442 - val_auxilliary_output_1_accuracy: 0.4475 - lr: 0.0064\n",
            "\n",
            "Epoch 58: LearningRateScheduler setting learning rate to 0.006382393305518408.\n",
            "Epoch 58/100\n",
            "98/98 [==============================] - 6s 58ms/step - loss: 0.9637 - output_loss: 0.6845 - auxilliary_output_1_loss: 0.9307 - output_accuracy: 0.7576 - auxilliary_output_1_accuracy: 0.6711 - val_loss: 2.7679 - val_output_loss: 2.2273 - val_auxilliary_output_1_loss: 1.8023 - val_output_accuracy: 0.4574 - val_auxilliary_output_1_accuracy: 0.4583 - lr: 0.0064\n",
            "\n",
            "Epoch 59: LearningRateScheduler setting learning rate to 0.006382393305518408.\n",
            "Epoch 59/100\n",
            "98/98 [==============================] - 6s 57ms/step - loss: 0.8687 - output_loss: 0.6063 - auxilliary_output_1_loss: 0.8747 - output_accuracy: 0.7842 - auxilliary_output_1_accuracy: 0.6906 - val_loss: 3.0895 - val_output_loss: 2.5256 - val_auxilliary_output_1_loss: 1.8794 - val_output_accuracy: 0.4485 - val_auxilliary_output_1_accuracy: 0.4467 - lr: 0.0064\n",
            "\n",
            "Epoch 60: LearningRateScheduler setting learning rate to 0.006127097573297671.\n",
            "Epoch 60/100\n",
            "98/98 [==============================] - 6s 59ms/step - loss: 0.8539 - output_loss: 0.5938 - auxilliary_output_1_loss: 0.8671 - output_accuracy: 0.7884 - auxilliary_output_1_accuracy: 0.6909 - val_loss: 3.0495 - val_output_loss: 2.4808 - val_auxilliary_output_1_loss: 1.8956 - val_output_accuracy: 0.4442 - val_auxilliary_output_1_accuracy: 0.4544 - lr: 0.0061\n",
            "\n",
            "Epoch 61: LearningRateScheduler setting learning rate to 0.006127097573297671.\n",
            "Epoch 61/100\n",
            "98/98 [==============================] - 6s 58ms/step - loss: 0.8161 - output_loss: 0.5615 - auxilliary_output_1_loss: 0.8484 - output_accuracy: 0.8014 - auxilliary_output_1_accuracy: 0.7009 - val_loss: 3.0540 - val_output_loss: 2.4821 - val_auxilliary_output_1_loss: 1.9062 - val_output_accuracy: 0.4564 - val_auxilliary_output_1_accuracy: 0.4577 - lr: 0.0061\n",
            "\n",
            "Epoch 62: LearningRateScheduler setting learning rate to 0.006127097573297671.\n",
            "Epoch 62/100\n",
            "98/98 [==============================] - 6s 58ms/step - loss: 0.8182 - output_loss: 0.5637 - auxilliary_output_1_loss: 0.8482 - output_accuracy: 0.7994 - auxilliary_output_1_accuracy: 0.6981 - val_loss: 3.3550 - val_output_loss: 2.7459 - val_auxilliary_output_1_loss: 2.0302 - val_output_accuracy: 0.4464 - val_auxilliary_output_1_accuracy: 0.4505 - lr: 0.0061\n",
            "\n",
            "Epoch 63: LearningRateScheduler setting learning rate to 0.006127097573297671.\n",
            "Epoch 63/100\n",
            "98/98 [==============================] - 6s 58ms/step - loss: 0.7929 - output_loss: 0.5412 - auxilliary_output_1_loss: 0.8390 - output_accuracy: 0.8085 - auxilliary_output_1_accuracy: 0.7037 - val_loss: 3.2245 - val_output_loss: 2.6436 - val_auxilliary_output_1_loss: 1.9360 - val_output_accuracy: 0.4465 - val_auxilliary_output_1_accuracy: 0.4494 - lr: 0.0061\n",
            "\n",
            "Epoch 64: LearningRateScheduler setting learning rate to 0.006127097573297671.\n",
            "Epoch 64/100\n",
            "98/98 [==============================] - 6s 59ms/step - loss: 0.8063 - output_loss: 0.5544 - auxilliary_output_1_loss: 0.8396 - output_accuracy: 0.8052 - auxilliary_output_1_accuracy: 0.7017 - val_loss: 3.2280 - val_output_loss: 2.6282 - val_auxilliary_output_1_loss: 1.9992 - val_output_accuracy: 0.4521 - val_auxilliary_output_1_accuracy: 0.4533 - lr: 0.0061\n",
            "\n",
            "Epoch 65: LearningRateScheduler setting learning rate to 0.005882013670365765.\n",
            "Epoch 65/100\n",
            "98/98 [==============================] - 6s 57ms/step - loss: 0.7631 - output_loss: 0.5176 - auxilliary_output_1_loss: 0.8184 - output_accuracy: 0.8163 - auxilliary_output_1_accuracy: 0.7084 - val_loss: 3.1277 - val_output_loss: 2.5492 - val_auxilliary_output_1_loss: 1.9281 - val_output_accuracy: 0.4575 - val_auxilliary_output_1_accuracy: 0.4546 - lr: 0.0059\n",
            "\n",
            "Epoch 66: LearningRateScheduler setting learning rate to 0.005882013670365765.\n",
            "Epoch 66/100\n",
            "98/98 [==============================] - 6s 59ms/step - loss: 0.7051 - output_loss: 0.4701 - auxilliary_output_1_loss: 0.7833 - output_accuracy: 0.8332 - auxilliary_output_1_accuracy: 0.7217 - val_loss: 3.6481 - val_output_loss: 3.0233 - val_auxilliary_output_1_loss: 2.0828 - val_output_accuracy: 0.4536 - val_auxilliary_output_1_accuracy: 0.4460 - lr: 0.0059\n",
            "\n",
            "Epoch 67: LearningRateScheduler setting learning rate to 0.005882013670365765.\n",
            "Epoch 67/100\n",
            "98/98 [==============================] - 6s 58ms/step - loss: 0.7024 - output_loss: 0.4671 - auxilliary_output_1_loss: 0.7842 - output_accuracy: 0.8348 - auxilliary_output_1_accuracy: 0.7215 - val_loss: 3.4792 - val_output_loss: 2.8437 - val_auxilliary_output_1_loss: 2.1181 - val_output_accuracy: 0.4458 - val_auxilliary_output_1_accuracy: 0.4386 - lr: 0.0059\n",
            "\n",
            "Epoch 68: LearningRateScheduler setting learning rate to 0.005882013670365765.\n",
            "Epoch 68/100\n",
            "98/98 [==============================] - 6s 58ms/step - loss: 0.7351 - output_loss: 0.4938 - auxilliary_output_1_loss: 0.8042 - output_accuracy: 0.8266 - auxilliary_output_1_accuracy: 0.7161 - val_loss: 3.5366 - val_output_loss: 2.9152 - val_auxilliary_output_1_loss: 2.0712 - val_output_accuracy: 0.4526 - val_auxilliary_output_1_accuracy: 0.4519 - lr: 0.0059\n",
            "\n",
            "Epoch 69: LearningRateScheduler setting learning rate to 0.005882013670365765.\n",
            "Epoch 69/100\n",
            "98/98 [==============================] - 6s 58ms/step - loss: 0.6817 - output_loss: 0.4507 - auxilliary_output_1_loss: 0.7698 - output_accuracy: 0.8422 - auxilliary_output_1_accuracy: 0.7298 - val_loss: 3.6454 - val_output_loss: 3.0021 - val_auxilliary_output_1_loss: 2.1443 - val_output_accuracy: 0.4461 - val_auxilliary_output_1_accuracy: 0.4440 - lr: 0.0059\n",
            "\n",
            "Epoch 70: LearningRateScheduler setting learning rate to 0.005646733123551133.\n",
            "Epoch 70/100\n",
            "98/98 [==============================] - 6s 58ms/step - loss: 0.6781 - output_loss: 0.4464 - auxilliary_output_1_loss: 0.7722 - output_accuracy: 0.8455 - auxilliary_output_1_accuracy: 0.7269 - val_loss: 3.5319 - val_output_loss: 2.9050 - val_auxilliary_output_1_loss: 2.0898 - val_output_accuracy: 0.4491 - val_auxilliary_output_1_accuracy: 0.4497 - lr: 0.0056\n",
            "\n",
            "Epoch 71: LearningRateScheduler setting learning rate to 0.005646733123551133.\n",
            "Epoch 71/100\n",
            "98/98 [==============================] - 6s 60ms/step - loss: 0.6529 - output_loss: 0.4276 - auxilliary_output_1_loss: 0.7508 - output_accuracy: 0.8493 - auxilliary_output_1_accuracy: 0.7358 - val_loss: 3.6268 - val_output_loss: 3.0020 - val_auxilliary_output_1_loss: 2.0827 - val_output_accuracy: 0.4457 - val_auxilliary_output_1_accuracy: 0.4448 - lr: 0.0056\n",
            "\n",
            "Epoch 72: LearningRateScheduler setting learning rate to 0.005646733123551133.\n",
            "Epoch 72/100\n",
            "98/98 [==============================] - 6s 58ms/step - loss: 0.6614 - output_loss: 0.4327 - auxilliary_output_1_loss: 0.7624 - output_accuracy: 0.8477 - auxilliary_output_1_accuracy: 0.7337 - val_loss: 3.4719 - val_output_loss: 2.8686 - val_auxilliary_output_1_loss: 2.0110 - val_output_accuracy: 0.4394 - val_auxilliary_output_1_accuracy: 0.4497 - lr: 0.0056\n",
            "\n",
            "Epoch 73: LearningRateScheduler setting learning rate to 0.005646733123551133.\n",
            "Epoch 73/100\n",
            "98/98 [==============================] - 6s 60ms/step - loss: 0.6609 - output_loss: 0.4334 - auxilliary_output_1_loss: 0.7583 - output_accuracy: 0.8494 - auxilliary_output_1_accuracy: 0.7334 - val_loss: 3.6889 - val_output_loss: 3.0506 - val_auxilliary_output_1_loss: 2.1277 - val_output_accuracy: 0.4482 - val_auxilliary_output_1_accuracy: 0.4465 - lr: 0.0056\n",
            "\n",
            "Epoch 74: LearningRateScheduler setting learning rate to 0.005646733123551133.\n",
            "Epoch 74/100\n",
            "98/98 [==============================] - 6s 59ms/step - loss: 0.6222 - output_loss: 0.4023 - auxilliary_output_1_loss: 0.7329 - output_accuracy: 0.8618 - auxilliary_output_1_accuracy: 0.7444 - val_loss: 3.5185 - val_output_loss: 2.9057 - val_auxilliary_output_1_loss: 2.0426 - val_output_accuracy: 0.4478 - val_auxilliary_output_1_accuracy: 0.4540 - lr: 0.0056\n",
            "\n",
            "Epoch 75: LearningRateScheduler setting learning rate to 0.005420863798609088.\n",
            "Epoch 75/100\n",
            "98/98 [==============================] - 6s 59ms/step - loss: 0.6100 - output_loss: 0.3920 - auxilliary_output_1_loss: 0.7266 - output_accuracy: 0.8639 - auxilliary_output_1_accuracy: 0.7452 - val_loss: 3.9595 - val_output_loss: 3.2968 - val_auxilliary_output_1_loss: 2.2089 - val_output_accuracy: 0.4507 - val_auxilliary_output_1_accuracy: 0.4496 - lr: 0.0054\n",
            "\n",
            "Epoch 76: LearningRateScheduler setting learning rate to 0.005420863798609088.\n",
            "Epoch 76/100\n",
            "98/98 [==============================] - 6s 58ms/step - loss: 0.5921 - output_loss: 0.3778 - auxilliary_output_1_loss: 0.7144 - output_accuracy: 0.8690 - auxilliary_output_1_accuracy: 0.7500 - val_loss: 3.5138 - val_output_loss: 2.8975 - val_auxilliary_output_1_loss: 2.0542 - val_output_accuracy: 0.4493 - val_auxilliary_output_1_accuracy: 0.4486 - lr: 0.0054\n",
            "\n",
            "Epoch 77: LearningRateScheduler setting learning rate to 0.005420863798609088.\n",
            "Epoch 77/100\n",
            "98/98 [==============================] - 6s 59ms/step - loss: 0.5907 - output_loss: 0.3773 - auxilliary_output_1_loss: 0.7115 - output_accuracy: 0.8687 - auxilliary_output_1_accuracy: 0.7491 - val_loss: 3.8488 - val_output_loss: 3.1954 - val_auxilliary_output_1_loss: 2.1779 - val_output_accuracy: 0.4488 - val_auxilliary_output_1_accuracy: 0.4495 - lr: 0.0054\n",
            "\n",
            "Epoch 78: LearningRateScheduler setting learning rate to 0.005420863798609088.\n",
            "Epoch 78/100\n",
            "98/98 [==============================] - 6s 58ms/step - loss: 0.5786 - output_loss: 0.3676 - auxilliary_output_1_loss: 0.7033 - output_accuracy: 0.8723 - auxilliary_output_1_accuracy: 0.7541 - val_loss: 4.0138 - val_output_loss: 3.3374 - val_auxilliary_output_1_loss: 2.2544 - val_output_accuracy: 0.4478 - val_auxilliary_output_1_accuracy: 0.4437 - lr: 0.0054\n",
            "\n",
            "Epoch 79: LearningRateScheduler setting learning rate to 0.005420863798609088.\n",
            "Epoch 79/100\n",
            "98/98 [==============================] - 6s 58ms/step - loss: 0.5653 - output_loss: 0.3557 - auxilliary_output_1_loss: 0.6989 - output_accuracy: 0.8771 - auxilliary_output_1_accuracy: 0.7559 - val_loss: 3.8230 - val_output_loss: 3.1606 - val_auxilliary_output_1_loss: 2.2078 - val_output_accuracy: 0.4525 - val_auxilliary_output_1_accuracy: 0.4460 - lr: 0.0054\n",
            "\n",
            "Epoch 80: LearningRateScheduler setting learning rate to 0.005204029246664724.\n",
            "Epoch 80/100\n",
            "98/98 [==============================] - 6s 59ms/step - loss: 0.5353 - output_loss: 0.3326 - auxilliary_output_1_loss: 0.6758 - output_accuracy: 0.8859 - auxilliary_output_1_accuracy: 0.7631 - val_loss: 4.2083 - val_output_loss: 3.5480 - val_auxilliary_output_1_loss: 2.2010 - val_output_accuracy: 0.4452 - val_auxilliary_output_1_accuracy: 0.4432 - lr: 0.0052\n",
            "\n",
            "Epoch 81: LearningRateScheduler setting learning rate to 0.005204029246664724.\n",
            "Epoch 81/100\n",
            "98/98 [==============================] - 6s 58ms/step - loss: 0.5228 - output_loss: 0.3220 - auxilliary_output_1_loss: 0.6694 - output_accuracy: 0.8874 - auxilliary_output_1_accuracy: 0.7633 - val_loss: 4.5947 - val_output_loss: 3.8779 - val_auxilliary_output_1_loss: 2.3892 - val_output_accuracy: 0.4482 - val_auxilliary_output_1_accuracy: 0.4419 - lr: 0.0052\n",
            "\n",
            "Epoch 82: LearningRateScheduler setting learning rate to 0.005204029246664724.\n",
            "Epoch 82/100\n",
            "98/98 [==============================] - 6s 59ms/step - loss: 0.4865 - output_loss: 0.2927 - auxilliary_output_1_loss: 0.6462 - output_accuracy: 0.8981 - auxilliary_output_1_accuracy: 0.7728 - val_loss: 4.3489 - val_output_loss: 3.6590 - val_auxilliary_output_1_loss: 2.2998 - val_output_accuracy: 0.4478 - val_auxilliary_output_1_accuracy: 0.4434 - lr: 0.0052\n",
            "\n",
            "Epoch 83: LearningRateScheduler setting learning rate to 0.005204029246664724.\n",
            "Epoch 83/100\n",
            "98/98 [==============================] - 6s 58ms/step - loss: 0.5180 - output_loss: 0.3198 - auxilliary_output_1_loss: 0.6606 - output_accuracy: 0.8914 - auxilliary_output_1_accuracy: 0.7698 - val_loss: 4.5735 - val_output_loss: 3.8367 - val_auxilliary_output_1_loss: 2.4561 - val_output_accuracy: 0.4471 - val_auxilliary_output_1_accuracy: 0.4423 - lr: 0.0052\n",
            "\n",
            "Epoch 84: LearningRateScheduler setting learning rate to 0.005204029246664724.\n",
            "Epoch 84/100\n",
            "98/98 [==============================] - 6s 60ms/step - loss: 0.4816 - output_loss: 0.2887 - auxilliary_output_1_loss: 0.6432 - output_accuracy: 0.9014 - auxilliary_output_1_accuracy: 0.7755 - val_loss: 4.7497 - val_output_loss: 4.0336 - val_auxilliary_output_1_loss: 2.3869 - val_output_accuracy: 0.4428 - val_auxilliary_output_1_accuracy: 0.4422 - lr: 0.0052\n",
            "\n",
            "Epoch 85: LearningRateScheduler setting learning rate to 0.004995868076798134.\n",
            "Epoch 85/100\n",
            "98/98 [==============================] - 6s 58ms/step - loss: 0.4781 - output_loss: 0.2880 - auxilliary_output_1_loss: 0.6334 - output_accuracy: 0.9018 - auxilliary_output_1_accuracy: 0.7778 - val_loss: 4.7191 - val_output_loss: 3.9822 - val_auxilliary_output_1_loss: 2.4563 - val_output_accuracy: 0.4442 - val_auxilliary_output_1_accuracy: 0.4400 - lr: 0.0050\n",
            "\n",
            "Epoch 86: LearningRateScheduler setting learning rate to 0.004995868076798134.\n",
            "Epoch 86/100\n",
            "98/98 [==============================] - 6s 59ms/step - loss: 0.4156 - output_loss: 0.2379 - auxilliary_output_1_loss: 0.5923 - output_accuracy: 0.9195 - auxilliary_output_1_accuracy: 0.7920 - val_loss: 5.0110 - val_output_loss: 4.2521 - val_auxilliary_output_1_loss: 2.5294 - val_output_accuracy: 0.4484 - val_auxilliary_output_1_accuracy: 0.4466 - lr: 0.0050\n",
            "\n",
            "Epoch 87: LearningRateScheduler setting learning rate to 0.004995868076798134.\n",
            "Epoch 87/100\n",
            "98/98 [==============================] - 6s 58ms/step - loss: 0.4902 - output_loss: 0.2987 - auxilliary_output_1_loss: 0.6384 - output_accuracy: 0.8991 - auxilliary_output_1_accuracy: 0.7775 - val_loss: 4.7787 - val_output_loss: 4.0374 - val_auxilliary_output_1_loss: 2.4709 - val_output_accuracy: 0.4448 - val_auxilliary_output_1_accuracy: 0.4363 - lr: 0.0050\n",
            "\n",
            "Epoch 88: LearningRateScheduler setting learning rate to 0.004995868076798134.\n",
            "Epoch 88/100\n",
            "98/98 [==============================] - 6s 59ms/step - loss: 0.4048 - output_loss: 0.2287 - auxilliary_output_1_loss: 0.5870 - output_accuracy: 0.9225 - auxilliary_output_1_accuracy: 0.7973 - val_loss: 4.8093 - val_output_loss: 4.0745 - val_auxilliary_output_1_loss: 2.4495 - val_output_accuracy: 0.4468 - val_auxilliary_output_1_accuracy: 0.4459 - lr: 0.0050\n",
            "\n",
            "Epoch 89: LearningRateScheduler setting learning rate to 0.004995868076798134.\n",
            "Epoch 89/100\n",
            "98/98 [==============================] - 6s 58ms/step - loss: 0.4342 - output_loss: 0.2536 - auxilliary_output_1_loss: 0.6018 - output_accuracy: 0.9148 - auxilliary_output_1_accuracy: 0.7910 - val_loss: 4.8710 - val_output_loss: 4.1154 - val_auxilliary_output_1_loss: 2.5188 - val_output_accuracy: 0.4422 - val_auxilliary_output_1_accuracy: 0.4362 - lr: 0.0050\n",
            "\n",
            "Epoch 90: LearningRateScheduler setting learning rate to 0.004796033353726209.\n",
            "Epoch 90/100\n",
            "98/98 [==============================] - 6s 58ms/step - loss: 0.3870 - output_loss: 0.2140 - auxilliary_output_1_loss: 0.5767 - output_accuracy: 0.9261 - auxilliary_output_1_accuracy: 0.7991 - val_loss: 5.4733 - val_output_loss: 4.6904 - val_auxilliary_output_1_loss: 2.6096 - val_output_accuracy: 0.4396 - val_auxilliary_output_1_accuracy: 0.4382 - lr: 0.0048\n",
            "\n",
            "Epoch 91: LearningRateScheduler setting learning rate to 0.004796033353726209.\n",
            "Epoch 91/100\n",
            "98/98 [==============================] - 6s 60ms/step - loss: 0.4102 - output_loss: 0.2359 - auxilliary_output_1_loss: 0.5811 - output_accuracy: 0.9217 - auxilliary_output_1_accuracy: 0.7982 - val_loss: 4.7079 - val_output_loss: 3.9849 - val_auxilliary_output_1_loss: 2.4101 - val_output_accuracy: 0.4490 - val_auxilliary_output_1_accuracy: 0.4447 - lr: 0.0048\n",
            "\n",
            "Epoch 92: LearningRateScheduler setting learning rate to 0.004796033353726209.\n",
            "Epoch 92/100\n",
            "98/98 [==============================] - 6s 58ms/step - loss: 0.5125 - output_loss: 0.3214 - auxilliary_output_1_loss: 0.6371 - output_accuracy: 0.8951 - auxilliary_output_1_accuracy: 0.7785 - val_loss: 4.9086 - val_output_loss: 4.1689 - val_auxilliary_output_1_loss: 2.4656 - val_output_accuracy: 0.4526 - val_auxilliary_output_1_accuracy: 0.4466 - lr: 0.0048\n",
            "\n",
            "Epoch 93: LearningRateScheduler setting learning rate to 0.004796033353726209.\n",
            "Epoch 93/100\n",
            "98/98 [==============================] - 6s 59ms/step - loss: 0.4262 - output_loss: 0.2506 - auxilliary_output_1_loss: 0.5853 - output_accuracy: 0.9162 - auxilliary_output_1_accuracy: 0.7961 - val_loss: 5.0795 - val_output_loss: 4.3138 - val_auxilliary_output_1_loss: 2.5521 - val_output_accuracy: 0.4404 - val_auxilliary_output_1_accuracy: 0.4401 - lr: 0.0048\n",
            "\n",
            "Epoch 94: LearningRateScheduler setting learning rate to 0.004796033353726209.\n",
            "Epoch 94/100\n",
            "98/98 [==============================] - 6s 58ms/step - loss: 0.4139 - output_loss: 0.2392 - auxilliary_output_1_loss: 0.5823 - output_accuracy: 0.9213 - auxilliary_output_1_accuracy: 0.7982 - val_loss: 4.9817 - val_output_loss: 4.2193 - val_auxilliary_output_1_loss: 2.5416 - val_output_accuracy: 0.4411 - val_auxilliary_output_1_accuracy: 0.4383 - lr: 0.0048\n",
            "\n",
            "Epoch 95: LearningRateScheduler setting learning rate to 0.004604192019577161.\n",
            "Epoch 95/100\n",
            "98/98 [==============================] - 6s 60ms/step - loss: 0.3894 - output_loss: 0.2204 - auxilliary_output_1_loss: 0.5635 - output_accuracy: 0.9251 - auxilliary_output_1_accuracy: 0.8057 - val_loss: 5.3120 - val_output_loss: 4.5052 - val_auxilliary_output_1_loss: 2.6894 - val_output_accuracy: 0.4433 - val_auxilliary_output_1_accuracy: 0.4392 - lr: 0.0046\n",
            "\n",
            "Epoch 96: LearningRateScheduler setting learning rate to 0.004604192019577161.\n",
            "Epoch 96/100\n",
            "98/98 [==============================] - 6s 58ms/step - loss: 0.3604 - output_loss: 0.1982 - auxilliary_output_1_loss: 0.5407 - output_accuracy: 0.9335 - auxilliary_output_1_accuracy: 0.8128 - val_loss: 5.3175 - val_output_loss: 4.5380 - val_auxilliary_output_1_loss: 2.5981 - val_output_accuracy: 0.4471 - val_auxilliary_output_1_accuracy: 0.4408 - lr: 0.0046\n",
            "\n",
            "Epoch 97: LearningRateScheduler setting learning rate to 0.004604192019577161.\n",
            "Epoch 97/100\n",
            "98/98 [==============================] - 6s 59ms/step - loss: 0.3843 - output_loss: 0.2169 - auxilliary_output_1_loss: 0.5580 - output_accuracy: 0.9283 - auxilliary_output_1_accuracy: 0.8042 - val_loss: 5.0157 - val_output_loss: 4.2568 - val_auxilliary_output_1_loss: 2.5295 - val_output_accuracy: 0.4475 - val_auxilliary_output_1_accuracy: 0.4444 - lr: 0.0046\n",
            "\n",
            "Epoch 98: LearningRateScheduler setting learning rate to 0.004604192019577161.\n",
            "Epoch 98/100\n",
            "98/98 [==============================] - 6s 58ms/step - loss: 0.4149 - output_loss: 0.2429 - auxilliary_output_1_loss: 0.5735 - output_accuracy: 0.9194 - auxilliary_output_1_accuracy: 0.8021 - val_loss: 4.9155 - val_output_loss: 4.1471 - val_auxilliary_output_1_loss: 2.5613 - val_output_accuracy: 0.4383 - val_auxilliary_output_1_accuracy: 0.4369 - lr: 0.0046\n",
            "\n",
            "Epoch 99: LearningRateScheduler setting learning rate to 0.004604192019577161.\n",
            "Epoch 99/100\n",
            "98/98 [==============================] - 6s 58ms/step - loss: 0.3725 - output_loss: 0.2104 - auxilliary_output_1_loss: 0.5405 - output_accuracy: 0.9310 - auxilliary_output_1_accuracy: 0.8122 - val_loss: 5.6989 - val_output_loss: 4.8719 - val_auxilliary_output_1_loss: 2.7567 - val_output_accuracy: 0.4380 - val_auxilliary_output_1_accuracy: 0.4380 - lr: 0.0046\n",
            "\n",
            "Epoch 100: LearningRateScheduler setting learning rate to 0.004420024338794074.\n",
            "Epoch 100/100\n",
            "98/98 [==============================] - 6s 60ms/step - loss: 0.3391 - output_loss: 0.1828 - auxilliary_output_1_loss: 0.5213 - output_accuracy: 0.9393 - auxilliary_output_1_accuracy: 0.8213 - val_loss: 5.3130 - val_output_loss: 4.5338 - val_auxilliary_output_1_loss: 2.5974 - val_output_accuracy: 0.4395 - val_auxilliary_output_1_accuracy: 0.4399 - lr: 0.0044\n"
          ]
        }
      ]
    },
    {
      "cell_type": "markdown",
      "source": [
        "## Salvamento do modelo treinado"
      ],
      "metadata": {
        "id": "f_UyXAlu1S2J"
      }
    },
    {
      "cell_type": "code",
      "source": [
        "model.save('my_saved_model')"
      ],
      "metadata": {
        "id": "2By38yOvhWc1"
      },
      "execution_count": null,
      "outputs": []
    },
    {
      "cell_type": "markdown",
      "source": [
        "## Gerar predições do modelo"
      ],
      "metadata": {
        "id": "qGnEfGdA1W7c"
      }
    },
    {
      "cell_type": "code",
      "source": [
        "# Gera previsões\n",
        "predictions = model.predict(X_test)\n",
        "\n",
        "# Separa as previsões principais e auxiliares\n",
        "main_predictions, aux1_predictions = predictions\n",
        "\n",
        "# Verifica a classe prevista e a classe verdadeira para o primeiro exemplo do conjunto de teste\n",
        "predicted_classes = np.argmax(main_predictions, axis=1)\n",
        "true_classes = np.argmax(y_test, axis=1)\n",
        "\n",
        "print(f\"Predicted first example class: {predicted_classes[0]}\")\n",
        "print(f\"True first example class: {true_classes[0]}\")"
      ],
      "metadata": {
        "id": "sphXqH21er8c",
        "colab": {
          "base_uri": "https://localhost:8080/"
        },
        "outputId": "64365a7b-6ab7-4958-e6cc-89c2906c2d09"
      },
      "execution_count": null,
      "outputs": [
        {
          "output_type": "stream",
          "name": "stdout",
          "text": [
            "313/313 [==============================] - 3s 6ms/step\n",
            "Predicted first example class: 8\n",
            "True first example class: 3\n"
          ]
        }
      ]
    },
    {
      "cell_type": "markdown",
      "source": [
        "## Visualizar predições erradas"
      ],
      "metadata": {
        "id": "fNSTCaTX13y9"
      }
    },
    {
      "cell_type": "code",
      "source": [
        "class_names = ['airplane', 'automobile', 'bird', 'cat', 'deer', 'dog', 'frog', 'horse', 'ship', 'truck']"
      ],
      "metadata": {
        "id": "1kG32bm8_XfF"
      },
      "execution_count": null,
      "outputs": []
    },
    {
      "cell_type": "code",
      "source": [
        "# Função para visualizar previsões incorretas\n",
        "def plot_misclassified_images(images, true_labels, predicted_labels, class_names):\n",
        "    misclassified = true_labels != predicted_labels\n",
        "    misclassified_images = images[misclassified]\n",
        "    true_labels = true_labels[misclassified]\n",
        "    predicted_labels = predicted_labels[misclassified]\n",
        "\n",
        "    plt.figure(figsize=(10, 10))\n",
        "    for i in range(min(9, len(misclassified_images))):  # plota até 9 imagens incorretas ou menos se houver menos de 9\n",
        "        plt.subplot(3, 3, i + 1)\n",
        "        plt.imshow(misclassified_images[i])\n",
        "        true_class_name = class_names[true_labels[i]]\n",
        "        predicted_class_name = class_names[predicted_labels[i]]\n",
        "        plt.title(f\"True: {true_class_name}, Pred: {predicted_class_name}\")\n",
        "        plt.axis(\"off\")\n",
        "    plt.show()\n",
        "\n",
        "# Exemplo de uso\n",
        "# true_classes e predicted_classes são arrays com os índices das classes verdadeiras e previstas, respectivamente\n",
        "# X_test são as imagens de teste\n",
        "plot_misclassified_images(X_test, true_classes, predicted_classes, class_names)"
      ],
      "metadata": {
        "id": "6wujI38beu0u",
        "colab": {
          "base_uri": "https://localhost:8080/",
          "height": 829
        },
        "outputId": "a99620bd-df48-4fc2-80d1-f00e038fc0ef"
      },
      "execution_count": null,
      "outputs": [
        {
          "output_type": "display_data",
          "data": {
            "text/plain": [
              "<Figure size 1000x1000 with 9 Axes>"
            ],
            "image/png": "[encoded data removed]"
          },
          "metadata": {}
        }
      ]
    },
    {
      "cell_type": "markdown",
      "source": [
        "## Predição de outras imagens"
      ],
      "metadata": {
        "id": "LQI4HyEn17m9"
      }
    },
    {
      "cell_type": "code",
      "source": [
        "# Lista de URLs de imagens de teste\n",
        "image_urls = [\n",
        "    'https://marvel-b1-cdn.bc0a.com/f00000000295579/www.tecequipment.com/app/uploads/2020/10/Volvo-VNR-Day-cab.jpg',\n",
        "    'https://www.alleycat.org/wp-content/uploads/2019/03/FELV-cat.jpg'\n",
        "]"
      ],
      "metadata": {
        "id": "McCAqX3O_642"
      },
      "execution_count": null,
      "outputs": []
    },
    {
      "cell_type": "code",
      "source": [
        "def load_and_preprocess_image(url):\n",
        "    try:\n",
        "        # Baixa a imagem da URL\n",
        "        response = requests.get(url)\n",
        "        response.raise_for_status()  # Verifica se a requisição foi bem-sucedida\n",
        "        img = Image.open(BytesIO(response.content))\n",
        "\n",
        "        # Redimensiona a imagem para 32x32 pixels\n",
        "        img = img.resize((32, 32))\n",
        "\n",
        "        # Converte a imagem para um array e normaliza os valores\n",
        "        img_array = image.img_to_array(img)\n",
        "        img_array = img_array / 255.0  # Normaliza a imagem\n",
        "\n",
        "        # Expande as dimensões para se ajustar ao formato esperado pelo modelo\n",
        "        img_array = np.expand_dims(img_array, axis=0)\n",
        "\n",
        "        return img_array\n",
        "    except (requests.HTTPError, UnidentifiedImageError) as e:\n",
        "        print(f\"Error loading image from {url}: {e}\")\n",
        "        return None\n",
        "\n",
        "# Processa e faz predições nas imagens\n",
        "for url in image_urls:\n",
        "    img_array = load_and_preprocess_image(url)\n",
        "    if img_array is not None:\n",
        "        predictions = model.predict(img_array)  # Pode retornar uma lista de arrays se houver múltiplas saídas\n",
        "        main_prediction = predictions[0]  # Supondo que a primeira saída é a principal\n",
        "        predicted_class = np.argmax(main_prediction, axis=1)\n",
        "        print(f\"Predicted class for {url}: {class_names[predicted_class[0]]}\")\n",
        "    else:\n",
        "        print(f\"Skipping image from {url} due to loading error.\")"
      ],
      "metadata": {
        "colab": {
          "base_uri": "https://localhost:8080/"
        },
        "id": "JJV2ZEQHDi3U",
        "outputId": "d7e6de83-c39a-47d2-dc2b-e62e9bcf018a"
      },
      "execution_count": null,
      "outputs": [
        {
          "output_type": "stream",
          "name": "stdout",
          "text": [
            "1/1 [==============================] - 1s 836ms/step\n",
            "Predicted class for https://marvel-b1-cdn.bc0a.com/f00000000295579/www.tecequipment.com/app/uploads/2020/10/Volvo-VNR-Day-cab.jpg: truck\n",
            "1/1 [==============================] - 0s 75ms/step\n",
            "Predicted class for https://www.alleycat.org/wp-content/uploads/2019/03/FELV-cat.jpg: bird\n"
          ]
        }
      ]
    }
  ],
  "metadata": {
    "colab": {
      "provenance": [],
      "gpuType": "T4"
    },
    "kernelspec": {
      "display_name": "Python 3",
      "name": "python3"
    },
    "accelerator": "GPU"
  },
  "nbformat": 4,
  "nbformat_minor": 0
}